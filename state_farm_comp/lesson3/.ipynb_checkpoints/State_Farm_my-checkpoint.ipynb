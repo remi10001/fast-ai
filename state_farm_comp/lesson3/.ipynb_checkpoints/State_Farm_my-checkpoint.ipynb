{
 "cells": [
  {
   "cell_type": "markdown",
   "metadata": {},
   "source": [
    "## So what am I doing here?"
   ]
  },
  {
   "cell_type": "markdown",
   "metadata": {},
   "source": [
    "So what are the steps:\n",
    "    - Load the data\n",
    "    - Set-up my machine learning environment\n",
    "    - Organize the data into an appropriate directory structure (mimic what he has been doing) with training, validation and test sets (making the right validation set will possibly be tricky on this dataset\n",
    "    - Read the data into the needed data structures for learning (I still really need to learn how to do this)\n",
    "    - Start with a linear model\n",
    "    - Then start doing multilayer MLP\n",
    "    - Then start using the pre-trained network, pre-compute convolutional layers, train fully connected layers\n",
    "    - Start applying the techniques that Jeremy Howard has been teaching."
   ]
  },
  {
   "cell_type": "markdown",
   "metadata": {},
   "source": [
    "## Step 1. Load the data"
   ]
  },
  {
   "cell_type": "code",
   "execution_count": 8,
   "metadata": {},
   "outputs": [
    {
     "name": "stdout",
     "output_type": "stream",
     "text": [
      "\u001b[0m\u001b[01;34mlesson3\u001b[0m/  \u001b[01;34mutils\u001b[0m/\n",
      "downloading https://www.kaggle.com/c/state-farm-distracted-driver-detection/download/sample_submission.csv.zip\n",
      "\n",
      "sample_submission.csv.zip N/A% |                      | ETA:  --:--:--   0.0 s/B\n",
      "\n",
      "Warning: download url for file sample_submission.csv.zip resolves to an html document rather than a downloadable file. \n",
      "Is it possible you have not accepted the competition's rules on the kaggle website?\n",
      "\n"
     ]
    }
   ],
   "source": [
    "%pwd\n"
   ]
  },
  {
   "cell_type": "code",
   "execution_count": 1,
   "metadata": {
    "collapsed": true
   },
   "outputs": [],
   "source": [
    "#Create references to important directories we will use over and over\n",
    "import os, sys\n",
    "current_dir = os.getcwd()\n",
    "LESSON_HOME_DIR = current_dir\n",
    "DATA_HOME_DIR = current_dir+'/data'"
   ]
  },
  {
   "cell_type": "code",
   "execution_count": 2,
   "metadata": {},
   "outputs": [
    {
     "name": "stderr",
     "output_type": "stream",
     "text": [
      "WARNING (theano.sandbox.cuda): The cuda backend is deprecated and will be removed in the next release (v0.10).  Please switch to the gpuarray backend. You can get more information about how to switch at this URL:\n",
      " https://github.com/Theano/Theano/wiki/Converting-to-the-new-gpu-back-end%28gpuarray%29\n",
      "\n",
      "WARNING (theano.sandbox.cuda): CUDA is installed, but device gpu is not available  (error: Unable to get the number of gpus available: unknown error)\n",
      "Using Theano backend.\n"
     ]
    }
   ],
   "source": [
    "#Allow relative imports to directories above lesson1/\n",
    "sys.path.insert(1, os.path.join(sys.path[0], '../utils/'))\n",
    "\n",
    "#import modules\n",
    "from utils import *; \n",
    "from vgg16 import Vgg16\n",
    "\n",
    "#Instantiate plotting tool\n",
    "#In Jupyter notebooks, you will need to run this command before doing any plotting\n",
    "%matplotlib inline"
   ]
  },
  {
   "cell_type": "code",
   "execution_count": 3,
   "metadata": {},
   "outputs": [
    {
     "name": "stdout",
     "output_type": "stream",
     "text": [
      "/home/ubuntu/nbs-git/state_farm_comp/lesson3/data\n"
     ]
    }
   ],
   "source": [
    "#Create directories\n",
    "%cd $DATA_HOME_DIR\n",
    "!kg download -u remi10001 -p $KAGGLE_PASS -c state-farm-distracted-driver-detection\n",
    "% unzip -q imgs.zip\n",
    "% rm imgs.zip\n",
    "%mkdir valid\n",
    "%mkdir results\n",
    "%mkdir -p sample/train\n",
    "%mkdir -p sample/test/unknown\n",
    "%mkdir -p sample/valid\n",
    "%mkdir -p sample/results\n",
    "#%mkdir -p test/unknown\n",
    "%mkdir tester\n",
    "%mv test/ tester/unknown\n",
    "%mv tester test"
   ]
  },
  {
   "cell_type": "markdown",
   "metadata": {},
   "source": [
    "# Create the Validation set, train and validation separate drivers"
   ]
  },
  {
   "cell_type": "code",
   "execution_count": 3,
   "metadata": {},
   "outputs": [
    {
     "data": {
      "text/plain": [
       "u'/home/ubuntu/nbs-git/state_farm_comp/lesson3'"
      ]
     },
     "execution_count": 3,
     "metadata": {},
     "output_type": "execute_result"
    }
   ],
   "source": [
    "%pwd"
   ]
  },
  {
   "cell_type": "code",
   "execution_count": 4,
   "metadata": {},
   "outputs": [
    {
     "name": "stdout",
     "output_type": "stream",
     "text": [
      "/home/ubuntu/nbs-git/state_farm_comp/lesson3/data\n",
      "classname   c0   c1   c2   c3   c4   c5   c6   c7   c8   c9\n",
      "subject                                                    \n",
      "p002        76   74   86   79   84   76   83   72   44   51\n",
      "p012        84   95   91   89   97   96   75   72   62   62\n",
      "p014       100  103  100  100  103  102  101   77   38   52\n",
      "p015        79   85   88   94  101  101   99   81   86   61\n",
      "p016       111  102  101  128  104  104  108  101   99  120\n",
      "p021       135  131  127  128  132  130  126   98   99  131\n",
      "p022       129  129  128  129  130  130  131   98   98  131\n",
      "p024       130  129  128  130  129  131  129  101   99  120\n",
      "p026       130  129  130  131  126  130  128   97   97   98\n",
      "p035        94   81   88   89   89   89   94   87   56   81\n",
      "p039        65   63   70   65   62   64   63   64   70   65\n",
      "p041        60   64   60   60   60   61   61   61   59   59\n",
      "p042        59   59   60   59   58   59   59   59   59   60\n",
      "p045        75   75   76   75   75   76   71   67   66   68\n",
      "p047        80   91   81   86   82   87   81   82   82   83\n",
      "p049        84   85  119  110  109  116  119   74   79  116\n",
      "p050       123   45   52   98   83   91   82   81   65   70\n",
      "p051       182   81   81   83   81   83   95   80   62   92\n",
      "p052        72   71   84   75   72   72   77   71   71   75\n",
      "p056        81   80   80   78   82   81   80   74   83   75\n",
      "p061        84   81   81   83   79   81   80   79   81   80\n",
      "p064        83   81   83   84   86   85   82   79   81   76\n",
      "p066       129  100  106  101  102  101  105   86  114   90\n",
      "p072        63   62   36   31   34    6   35    2   21   56\n",
      "p075        81   81   85   79   89   79   82   82   79   77\n",
      "p081       100   90   96   82   77   81   79   77   61   80\n",
      "subject\n",
      "p002     725\n",
      "p012     823\n",
      "p014     876\n",
      "p015     875\n",
      "p016    1078\n",
      "p021    1237\n",
      "p022    1233\n",
      "p024    1226\n",
      "p026    1196\n",
      "p035     848\n",
      "p039     651\n",
      "p041     605\n",
      "p042     591\n",
      "p045     724\n",
      "p047     835\n",
      "p049    1011\n",
      "p050     790\n",
      "p051     920\n",
      "p052     740\n",
      "p056     794\n",
      "p061     809\n",
      "p064     820\n",
      "p066    1034\n",
      "p072     346\n",
      "p075     814\n",
      "p081     823\n",
      "dtype: int64\n",
      "Validation subjects: p075, p050, p052\n"
     ]
    },
    {
     "data": {
      "text/plain": [
       "['c0/img_68359.jpg', 'c0/img_35502.jpg']"
      ]
     },
     "execution_count": 4,
     "metadata": {},
     "output_type": "execute_result"
    }
   ],
   "source": [
    "# Assess class distribution for the subjects in the training dataset\n",
    "%cd $DATA_HOME_DIR\n",
    "import pandas as pd\n",
    "# Read in the data table\n",
    "a = pd.read_csv('driver_imgs_list.csv')\n",
    "\n",
    "tab = a.groupby(['subject', 'classname']).size()\n",
    "print(tab.unstack())\n",
    "tab = a.groupby('subject').size()\n",
    "print(tab)\n",
    "\n",
    "# select three subjects at random for the validation set\n",
    "import random\n",
    "random.seed(100)   # So subjects selected are consistent\n",
    "b =set(np.random.permutation(a['subject']))\n",
    "subs_val = random.sample(b - set('p072'), 3)# Decided on 3 drivers with further consultation from Jeremy Howard's notebook\n",
    "print(\"Validation subjects: \" + ', '.join(subs_val))\n",
    "\n",
    "a['val.file'] = a[['classname', 'img']].apply(lambda x: '/'.join(x), axis=1)\n",
    "tab_val = a.loc[a['subject'].isin(subs_val)]\n",
    "val_files =tab_val['val.file'].tolist()\n",
    "val_files[0:2]"
   ]
  },
  {
   "cell_type": "code",
   "execution_count": 5,
   "metadata": {
    "collapsed": true
   },
   "outputs": [],
   "source": [
    "# Create the separate directories in valid and sample/train\n",
    "os.chdir(DATA_HOME_DIR+'/train')\n",
    "for d in glob('c?'):\n",
    "    os.mkdir('../sample/train/' + d)\n",
    "    os.mkdir('../sample/valid/' + d)\n",
    "    os.mkdir('../valid/' + d)"
   ]
  },
  {
   "cell_type": "code",
   "execution_count": 6,
   "metadata": {
    "collapsed": true
   },
   "outputs": [],
   "source": [
    "# Now move the files from the training folder to the validation folder\n",
    "os.chdir(DATA_HOME_DIR + '/train')\n",
    "from shutil import copyfile\n",
    "for f in val_files:\n",
    "    os.rename(f, DATA_HOME_DIR + '/valid/' + f)"
   ]
  },
  {
   "cell_type": "code",
   "execution_count": 7,
   "metadata": {
    "collapsed": true
   },
   "outputs": [],
   "source": [
    "# Now copy files to sample folders\n",
    "#How many do I want in my sample? maybe 50 train, 20 valid, 20 test [just to make sure code is working]\n",
    "train_sample = 50\n",
    "valid_sample = 20\n",
    "test_sample = 20\n",
    "\n",
    "os.chdir(DATA_HOME_DIR + '/train')\n",
    "fs = glob('c?/*.jpg')\n",
    "shuf = np.random.permutation(fs)\n",
    "for i in range(train_sample):\n",
    "    copyfile(shuf[i], '../sample/train/' + shuf[i])"
   ]
  },
  {
   "cell_type": "code",
   "execution_count": 8,
   "metadata": {
    "collapsed": true
   },
   "outputs": [],
   "source": [
    "os.chdir(DATA_HOME_DIR + '/valid')\n",
    "fs = glob('c?/*.jpg')\n",
    "shuf = np.random.permutation(fs)\n",
    "for i in range(valid_sample):\n",
    "    copyfile(shuf[i], '../sample/valid/' + shuf[i]) "
   ]
  },
  {
   "cell_type": "code",
   "execution_count": 9,
   "metadata": {
    "collapsed": true
   },
   "outputs": [],
   "source": [
    "os.chdir(DATA_HOME_DIR + '/test/unknown')\n",
    "fs = glob('*.jpg')\n",
    "shuf = np.random.permutation(fs)\n",
    "for i in range(test_sample):\n",
    "    copyfile(shuf[i], '../../sample/test/unknown/' + shuf[i]) "
   ]
  },
  {
   "cell_type": "markdown",
   "metadata": {},
   "source": [
    "So now assume I have the data in all the directories I want. Now what do I need to do? One approach is that I can make a simple linear model in keras. \n",
    "    - I need to get batches of my training data and validation data. I can use the get batches function for that. \n",
    "    - Then I can define a sequential linear model\n",
    "    "
   ]
  },
  {
   "cell_type": "code",
   "execution_count": 3,
   "metadata": {},
   "outputs": [
    {
     "name": "stdout",
     "output_type": "stream",
     "text": [
      "/home/ubuntu/nbs-git/state_farm_comp/lesson3/data\n"
     ]
    }
   ],
   "source": [
    "%cd $DATA_HOME_DIR\n",
    "#Set path to sample/ path if desired\n",
    "path = DATA_HOME_DIR + '/sample/' #'/'\n",
    "\n",
    "test_path = DATA_HOME_DIR + '/test/' #We use all the test data\n",
    "results_path=DATA_HOME_DIR + '/results/'\n",
    "train_path=path + '/train/'\n",
    "valid_path=path + '/valid/'"
   ]
  },
  {
   "cell_type": "code",
   "execution_count": 31,
   "metadata": {
    "collapsed": true
   },
   "outputs": [],
   "source": [
    "batch_size = 64"
   ]
  },
  {
   "cell_type": "code",
   "execution_count": 5,
   "metadata": {},
   "outputs": [
    {
     "name": "stdout",
     "output_type": "stream",
     "text": [
      "Found 50 images belonging to 10 classes.\n",
      "Found 20 images belonging to 10 classes.\n"
     ]
    }
   ],
   "source": [
    "train_batches = get_batches(train_path, batch_size=batch_size)\n",
    "val_batches = get_batches(valid_path, batch_size=batch_size*2, shuffle=False)"
   ]
  },
  {
   "cell_type": "code",
   "execution_count": 6,
   "metadata": {
    "collapsed": true
   },
   "outputs": [],
   "source": [
    "??get_classes"
   ]
  },
  {
   "cell_type": "code",
   "execution_count": 7,
   "metadata": {},
   "outputs": [
    {
     "name": "stdout",
     "output_type": "stream",
     "text": [
      "Found 50 images belonging to 10 classes.\n",
      "Found 20 images belonging to 10 classes.\n",
      "Found 20 images belonging to 1 classes.\n"
     ]
    }
   ],
   "source": [
    "(val_classes, trn_classes, val_labels, trn_labels, val_filenames, \n",
    " train_filenames, test_filenames) = get_classes(path)"
   ]
  },
  {
   "cell_type": "code",
   "execution_count": 10,
   "metadata": {
    "collapsed": true
   },
   "outputs": [],
   "source": [
    "model = Sequential([\n",
    "    BatchNormalization(axis=1, input_shape=(3,224,224)),\n",
    "    Flatten(),\n",
    "    Dense(10, activation=\"softmax\")\n",
    "])"
   ]
  },
  {
   "cell_type": "code",
   "execution_count": 11,
   "metadata": {
    "collapsed": true
   },
   "outputs": [],
   "source": [
    "model.compile(optimizer=\"adam\",\n",
    "             loss=\"categorical_crossentropy\",\n",
    "             metrics=['accuracy'])"
   ]
  },
  {
   "cell_type": "code",
   "execution_count": 16,
   "metadata": {},
   "outputs": [
    {
     "name": "stdout",
     "output_type": "stream",
     "text": [
      "Epoch 1/10\n",
      "50/50 [==============================] - 1s - loss: 9.7120 - acc: 0.1200 - val_loss: 15.3122 - val_acc: 0.0500\n",
      "Epoch 2/10\n",
      "50/50 [==============================] - 0s - loss: 10.9603 - acc: 0.3200 - val_loss: 15.3122 - val_acc: 0.0500\n",
      "Epoch 3/10\n",
      "50/50 [==============================] - 0s - loss: 11.2827 - acc: 0.3000 - val_loss: 15.3122 - val_acc: 0.0500\n",
      "Epoch 4/10\n",
      "50/50 [==============================] - 0s - loss: 11.2827 - acc: 0.3000 - val_loss: 15.3122 - val_acc: 0.0500\n",
      "Epoch 5/10\n",
      "50/50 [==============================] - 0s - loss: 11.2827 - acc: 0.3000 - val_loss: 15.3122 - val_acc: 0.0500\n",
      "Epoch 6/10\n",
      "50/50 [==============================] - 1s - loss: 11.2827 - acc: 0.3000 - val_loss: 15.3122 - val_acc: 0.0500\n",
      "Epoch 7/10\n",
      "50/50 [==============================] - 0s - loss: 11.2827 - acc: 0.3000 - val_loss: 15.3122 - val_acc: 0.0500\n",
      "Epoch 8/10\n",
      "50/50 [==============================] - 0s - loss: 11.2827 - acc: 0.3000 - val_loss: 15.3122 - val_acc: 0.0500\n",
      "Epoch 9/10\n",
      "50/50 [==============================] - 0s - loss: 11.2827 - acc: 0.3000 - val_loss: 15.3122 - val_acc: 0.0500\n",
      "Epoch 10/10\n",
      "50/50 [==============================] - 0s - loss: 11.2827 - acc: 0.3000 - val_loss: 15.3122 - val_acc: 0.0500\n"
     ]
    },
    {
     "data": {
      "text/plain": [
       "<keras.callbacks.History at 0x7ff0901f6250>"
      ]
     },
     "execution_count": 16,
     "metadata": {},
     "output_type": "execute_result"
    }
   ],
   "source": [
    "model.fit_generator(train_batches, train_batches.nb_sample, nb_epoch=10, \n",
    "                    validation_data=val_batches, nb_val_samples=val_batches.nb_sample)"
   ]
  },
  {
   "cell_type": "code",
   "execution_count": 20,
   "metadata": {},
   "outputs": [
    {
     "data": {
      "text/plain": [
       "array([[ 0.,  0.,  0.,  0.,  0.,  0.,  0.,  1.,  0.,  0.],\n",
       "       [ 1.,  0.,  0.,  0.,  0.,  0.,  0.,  0.,  0.,  0.],\n",
       "       [ 1.,  0.,  0.,  0.,  0.,  0.,  0.,  0.,  0.,  0.],\n",
       "       [ 1.,  0.,  0.,  0.,  0.,  0.,  0.,  0.,  0.,  0.],\n",
       "       [ 1.,  0.,  0.,  0.,  0.,  0.,  0.,  0.,  0.,  0.],\n",
       "       [ 1.,  0.,  0.,  0.,  0.,  0.,  0.,  0.,  0.,  0.],\n",
       "       [ 1.,  0.,  0.,  0.,  0.,  0.,  0.,  0.,  0.,  0.],\n",
       "       [ 1.,  0.,  0.,  0.,  0.,  0.,  0.,  0.,  0.,  0.],\n",
       "       [ 1.,  0.,  0.,  0.,  0.,  0.,  0.,  0.,  0.,  0.],\n",
       "       [ 0.,  0.,  0.,  0.,  0.,  0.,  0.,  1.,  0.,  0.]], dtype=float32)"
      ]
     },
     "execution_count": 20,
     "metadata": {},
     "output_type": "execute_result"
    }
   ],
   "source": [
    "np.round(model.predict_generator(train_batches, train_batches.nb_sample)[:10], 2)"
   ]
  },
  {
   "cell_type": "markdown",
   "metadata": {},
   "source": [
    "Nearly always predicting 1 of 2 classes. Decrease the learning rate to see if it will do better"
   ]
  },
  {
   "cell_type": "code",
   "execution_count": 21,
   "metadata": {},
   "outputs": [
    {
     "name": "stdout",
     "output_type": "stream",
     "text": [
      "Epoch 1/10\n",
      "50/50 [==============================] - 1s - loss: 3.6615 - acc: 0.1600 - val_loss: 14.6681 - val_acc: 0.0500\n",
      "Epoch 2/10\n",
      "50/50 [==============================] - 1s - loss: 2.5600 - acc: 0.1800 - val_loss: 10.4166 - val_acc: 0.0500\n",
      "Epoch 3/10\n",
      "50/50 [==============================] - 0s - loss: 2.1767 - acc: 0.3600 - val_loss: 8.3791 - val_acc: 0.0500\n",
      "Epoch 4/10\n",
      "50/50 [==============================] - 0s - loss: 1.8068 - acc: 0.4600 - val_loss: 7.3171 - val_acc: 0.0500\n",
      "Epoch 5/10\n",
      "50/50 [==============================] - 0s - loss: 1.5889 - acc: 0.5000 - val_loss: 6.8109 - val_acc: 0.0500\n",
      "Epoch 6/10\n",
      "50/50 [==============================] - 0s - loss: 1.1698 - acc: 0.6400 - val_loss: 6.4534 - val_acc: 0.0500\n",
      "Epoch 7/10\n",
      "50/50 [==============================] - 0s - loss: 1.0534 - acc: 0.6600 - val_loss: 6.4669 - val_acc: 0.0500\n",
      "Epoch 8/10\n",
      "50/50 [==============================] - 0s - loss: 0.9361 - acc: 0.7200 - val_loss: 6.4526 - val_acc: 0.1000\n",
      "Epoch 9/10\n",
      "50/50 [==============================] - 0s - loss: 0.8546 - acc: 0.7400 - val_loss: 5.9429 - val_acc: 0.1000\n",
      "Epoch 10/10\n",
      "50/50 [==============================] - 0s - loss: 0.6641 - acc: 0.8600 - val_loss: 5.5745 - val_acc: 0.1000\n"
     ]
    },
    {
     "data": {
      "text/plain": [
       "<keras.callbacks.History at 0x7ff08d11d910>"
      ]
     },
     "execution_count": 21,
     "metadata": {},
     "output_type": "execute_result"
    }
   ],
   "source": [
    "model = Sequential([\n",
    "    BatchNormalization(axis=1, input_shape=(3,224,224)),\n",
    "    Flatten(),\n",
    "    Dense(10, activation=\"softmax\")\n",
    "])\n",
    "\n",
    "model.compile(optimizer=Adam(lr=1e-5),\n",
    "             loss=\"categorical_crossentropy\",\n",
    "             metrics=['accuracy'])\n",
    "\n",
    "model.fit_generator(train_batches, train_batches.nb_sample, nb_epoch=10, \n",
    "                    validation_data=val_batches, nb_val_samples=val_batches.nb_sample)"
   ]
  },
  {
   "cell_type": "code",
   "execution_count": 22,
   "metadata": {},
   "outputs": [
    {
     "data": {
      "text/plain": [
       "150528"
      ]
     },
     "execution_count": 22,
     "metadata": {},
     "output_type": "execute_result"
    }
   ],
   "source": [
    "3 * 224 * 224"
   ]
  },
  {
   "cell_type": "markdown",
   "metadata": {},
   "source": [
    "There are 150528 pixels. Thus, with 10 hidden units, the model can overfit the training data as much as it wants. That is what I see, ever increasing accuracy on the training set but no increase in accuracy on the validation set beyond chance (predicting the same class for all samples)"
   ]
  },
  {
   "cell_type": "markdown",
   "metadata": {},
   "source": [
    "Let's go ahead straight to the Vgg16 pre-trained model and fine-tune it. If that takes too long, I can pre-compute the convolutional layers and then train the other layers. After I do this, I can go back and look through all the steps that he did."
   ]
  },
  {
   "cell_type": "code",
   "execution_count": 23,
   "metadata": {},
   "outputs": [
    {
     "name": "stdout",
     "output_type": "stream",
     "text": [
      "Epoch 1/10\n",
      "50/50 [==============================] - 22s - loss: 4.3720 - acc: 0.1400 - val_loss: 4.5390 - val_acc: 0.0500\n",
      "Epoch 2/10\n",
      "50/50 [==============================] - 21s - loss: 4.9361 - acc: 0.1400 - val_loss: 4.0187 - val_acc: 0.0500\n",
      "Epoch 3/10\n",
      "50/50 [==============================] - 21s - loss: 3.2543 - acc: 0.3600 - val_loss: 3.2506 - val_acc: 0.2500\n",
      "Epoch 4/10\n",
      "50/50 [==============================] - 21s - loss: 2.8068 - acc: 0.3200 - val_loss: 2.8694 - val_acc: 0.2000\n",
      "Epoch 5/10\n",
      "50/50 [==============================] - 21s - loss: 3.3810 - acc: 0.2200 - val_loss: 3.1717 - val_acc: 0.1500\n",
      "Epoch 6/10\n",
      "50/50 [==============================] - 21s - loss: 2.6494 - acc: 0.3000 - val_loss: 3.0018 - val_acc: 0.1500\n",
      "Epoch 7/10\n",
      "50/50 [==============================] - 21s - loss: 1.7781 - acc: 0.4400 - val_loss: 2.7893 - val_acc: 0.1500\n",
      "Epoch 8/10\n",
      "50/50 [==============================] - 21s - loss: 2.0502 - acc: 0.5000 - val_loss: 2.9055 - val_acc: 0.2000\n",
      "Epoch 9/10\n",
      "50/50 [==============================] - 21s - loss: 1.5123 - acc: 0.5600 - val_loss: 3.0757 - val_acc: 0.0500\n",
      "Epoch 10/10\n",
      "50/50 [==============================] - 21s - loss: 1.6710 - acc: 0.4600 - val_loss: 2.8468 - val_acc: 0.2000\n"
     ]
    }
   ],
   "source": [
    "vgg_model = Vgg16()\n",
    "vgg_model.finetune(train_batches)\n",
    "vgg_model.fit(train_batches, val_batches, nb_epoch=10)"
   ]
  },
  {
   "cell_type": "markdown",
   "metadata": {},
   "source": [
    "The fine-tuned Vgg model on this amount of data can start to fit the training data and at least get to 20% validation accuracy.\n",
    "I am using a vanishingly small amount of the data, so this is probably not a good test of these parameters, and pre-trained model architecture. IT IS EXCITING TO ME HOW SIMPLE THE VGG16 CODE NOW LOOKS. It is starting to make a lot of sense."
   ]
  },
  {
   "cell_type": "markdown",
   "metadata": {},
   "source": [
    "I think now I should start going through Jeremy Howard's approach. Try to write the code myself after looking at his, or especially just after considering his thoughts. I am working towards having my own thoughts on how to improve accuracy and being able to implement those thoughts through keras/theano directly, rather than through Jeremy's code. I can't rely on him as a crutch, though he is certainly helping me to learn things faster."
   ]
  },
  {
   "cell_type": "markdown",
   "metadata": {},
   "source": [
    "## My approach to good performance"
   ]
  },
  {
   "cell_type": "markdown",
   "metadata": {},
   "source": [
    "I am going to recreate what Jeremy Howard did in his State Farm submission, and I will build on it. I will use the pre-trained Vgg16 network, with data augmentation, and dropout and batch normalization on the dense layers. I will use the same network that he used, basically. I will train this model with sequential lowering of learning rate on the validation set. Once performance stabilizes I will PREDICT ON THE TEST SET. I am going to do a 5x larger training set with data augmentation. And I will do a 2x larger test set with data augmentation after I have my predictions. Then I will continue to refine the model that I used (with the saved weights from the first time around). I should be able to get all of this code working on the CPU before I do it on the GPU, simply using my samples. The experiments won't be of any consequence.\n",
    "\n",
    "At each step I need to save weights as necessary."
   ]
  },
  {
   "cell_type": "code",
   "execution_count": 8,
   "metadata": {
    "collapsed": true
   },
   "outputs": [],
   "source": [
    "vgg = Vgg16()\n",
    "model = vgg.model"
   ]
  },
  {
   "cell_type": "code",
   "execution_count": 24,
   "metadata": {
    "collapsed": true
   },
   "outputs": [],
   "source": [
    "last_conv_idx = [i for i,l in enumerate(model.layers) if type(l) is Convolution2D][-1]\n",
    "conv_layers = model.layers[:last_conv_idx+1]"
   ]
  },
  {
   "cell_type": "code",
   "execution_count": 27,
   "metadata": {
    "collapsed": true
   },
   "outputs": [],
   "source": [
    "conv_model = Sequential(conv_layers)\n",
    "train_batches = get_batches(train_path, batch_size=batch_size, shuffle=False)\n",
    "val_batches = get_batches(valid_path, batch_size=batch_size*2, shuffle=False)\n",
    "test_batches = get_batches(test_path, batch_size=batch_size, shuffle=False)\n",
    "conv_feat = conv_model.predict_generator(train_batches, train_batches.nb_sample)\n",
    "conv_val_feat = conv_model.predict_generator(val_batches, val_batches.nb_sample)\n",
    "conv_test_feat = conv_model.predict_generator(test_batches, test_batches.nb_sample)"
   ]
  },
  {
   "cell_type": "code",
   "execution_count": null,
   "metadata": {
    "collapsed": true
   },
   "outputs": [],
   "source": [
    "save_array(path + \"results/conv_feat.dat\", conv_feat)\n",
    "save_array(path + \"results/conv_val_feat.dat\", conv_val_feat)\n",
    "save_array(path + \"results/conv_test_feat.dat\"), conv_test_feat)"
   ]
  },
  {
   "cell_type": "code",
   "execution_count": 29,
   "metadata": {
    "collapsed": true
   },
   "outputs": [],
   "source": [
    "conv_feat = load_array(path + \"results/conv_feat.dat\")\n",
    "conv_test_feat = load_array(path + \"results/conv_test_feat.dat\")"
   ]
  },
  {
   "cell_type": "code",
   "execution_count": 30,
   "metadata": {
    "collapsed": true
   },
   "outputs": [],
   "source": [
    "??bcolz.carray"
   ]
  },
  {
   "cell_type": "code",
   "execution_count": 34,
   "metadata": {},
   "outputs": [
    {
     "data": {
      "text/plain": [
       "(512, 14, 14)"
      ]
     },
     "execution_count": 34,
     "metadata": {},
     "output_type": "execute_result"
    }
   ],
   "source": [
    "def get_my_layers(p=0.8):\n",
    "    return [\n",
    "        MaxPooling2D(input_shape = conv_layers[-1].output_shape[1:]),\n",
    "        Flatten(),\n",
    "        Dropout(p),\n",
    "        Dense(256, activation='relu'),\n",
    "        BatchNormalization(),\n",
    "        Dropout(p),\n",
    "        Dense(256, activation='relu'),\n",
    "        BatchNormalization(),\n",
    "        Dropout(p),\n",
    "        Dense(10, activation='softmax')\n",
    "        ]\n",
    "            \n",
    "        "
   ]
  },
  {
   "cell_type": "markdown",
   "metadata": {},
   "source": [
    "Pre-computed data augmentation + dropout\n",
    "line 107 in statefarm, that's where I am at\n",
    "gen_t"
   ]
  }
 ],
 "metadata": {
  "kernelspec": {
   "display_name": "Python [conda root]",
   "language": "python",
   "name": "conda-root-py"
  },
  "language_info": {
   "codemirror_mode": {
    "name": "ipython",
    "version": 2
   },
   "file_extension": ".py",
   "mimetype": "text/x-python",
   "name": "python",
   "nbconvert_exporter": "python",
   "pygments_lexer": "ipython2",
   "version": "2.7.13"
  }
 },
 "nbformat": 4,
 "nbformat_minor": 2
}
