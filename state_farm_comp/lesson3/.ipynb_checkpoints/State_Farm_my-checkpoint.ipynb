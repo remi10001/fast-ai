{
 "cells": [
  {
   "cell_type": "markdown",
   "metadata": {},
   "source": [
    "## So what am I doing here?"
   ]
  },
  {
   "cell_type": "markdown",
   "metadata": {},
   "source": [
    "So what are the steps:\n",
    "    - Load the data\n",
    "    - Set-up my machine learning environment\n",
    "    - Organize the data into an appropriate directory structure (mimic what he has been doing) with training, validation and test sets (making the right validation set will possibly be tricky on this dataset\n",
    "    - Read the data into the needed data structures for learning (I still really need to learn how to do this)\n",
    "    - Start with a linear model\n",
    "    - Then start doing multilayer MLP\n",
    "    - Then start using the pre-trained network, pre-compute convolutional layers, train fully connected layers\n",
    "    - Start applying the techniques that Jeremy Howard has been teaching."
   ]
  },
  {
   "cell_type": "markdown",
   "metadata": {},
   "source": [
    "## Step 1. Load the data"
   ]
  },
  {
   "cell_type": "code",
   "execution_count": 2,
   "metadata": {},
   "outputs": [
    {
     "name": "stdout",
     "output_type": "stream",
     "text": [
      "\u001b[0m\u001b[01;34mdata\u001b[0m/  State_Farm_my.ipynb\r\n"
     ]
    }
   ],
   "source": [
    "%pwd"
   ]
  },
  {
   "cell_type": "code",
   "execution_count": 1,
   "metadata": {
    "collapsed": true
   },
   "outputs": [],
   "source": [
    "#Create references to important directories we will use over and over\n",
    "import os, sys\n",
    "current_dir = os.getcwd()\n",
    "LESSON_HOME_DIR = current_dir\n",
    "DATA_HOME_DIR = current_dir+'/data'"
   ]
  },
  {
   "cell_type": "code",
   "execution_count": 2,
   "metadata": {},
   "outputs": [
    {
     "name": "stderr",
     "output_type": "stream",
     "text": [
      "WARNING (theano.sandbox.cuda): The cuda backend is deprecated and will be removed in the next release (v0.10).  Please switch to the gpuarray backend. You can get more information about how to switch at this URL:\n",
      " https://github.com/Theano/Theano/wiki/Converting-to-the-new-gpu-back-end%28gpuarray%29\n",
      "\n",
      "Using gpu device 0: Tesla K80 (CNMeM is disabled, cuDNN 5103)\n",
      "Using Theano backend.\n"
     ]
    }
   ],
   "source": [
    "#Allow relative imports to directories above lesson1/\n",
    "sys.path.insert(1, os.path.join(sys.path[0], '../utils/'))\n",
    "\n",
    "#import modules\n",
    "from utils import *; \n",
    "from vgg16 import Vgg16\n",
    "from IPython.display import FileLink\n",
    "\n",
    "#Instantiate plotting tool\n",
    "#In Jupyter notebooks, you will need to run this command before doing any plotting\n",
    "%matplotlib inline"
   ]
  },
  {
   "cell_type": "code",
   "execution_count": 14,
   "metadata": {},
   "outputs": [
    {
     "name": "stdout",
     "output_type": "stream",
     "text": [
      "[Errno 2] No such file or directory: '/home/ubuntu/nbs-git/fast-ai/state_farm_comp/lesson3/data/data'\n",
      "/home/ubuntu/nbs-git/fast-ai/state_farm_comp/lesson3/data\n",
      "usage: kg download [-h] [-c COMPETITION] [-u USERNAME] [-p PASSWORD]\n",
      "                   [-f FILENAME]\n",
      "kg download: error: argument -p/--password: expected one argument\n"
     ]
    }
   ],
   "source": [
    "# Download Data\n",
    "%cd $DATA_HOME_DIR\n",
    "!kg download -u remi10001 -p $KAGGLE_PASS -c state-farm-distracted-driver-detection"
   ]
  },
  {
   "cell_type": "code",
   "execution_count": 7,
   "metadata": {},
   "outputs": [
    {
     "name": "stdout",
     "output_type": "stream",
     "text": [
      "/home/ubuntu/nbs-git/fast-ai/state_farm_comp/lesson3/data\n"
     ]
    }
   ],
   "source": [
    "# Decompress data\n",
    "%cd $DATA_HOME_DIR\n",
    "!unzip -q imgs.zip\n",
    "!unzip -q driver_imgs_list.csv.zip\n",
    "!rm *.zip"
   ]
  },
  {
   "cell_type": "code",
   "execution_count": 9,
   "metadata": {
    "collapsed": true
   },
   "outputs": [],
   "source": [
    "#Create directories\n",
    "%cd $DATA_HOME_DIR\n",
    "%mkdir valid\n",
    "%mkdir results\n",
    "%mkdir -p sample/train\n",
    "%mkdir -p sample/test/unknown\n",
    "%mkdir -p sample/valid\n",
    "%mkdir -p sample/results\n",
    "#%mkdir -p test/unknown\n",
    "%mkdir tester\n",
    "%mv test/ tester/unknown\n",
    "%mv tester test"
   ]
  },
  {
   "cell_type": "markdown",
   "metadata": {},
   "source": [
    "# Create the Validation set, train and validation separate drivers"
   ]
  },
  {
   "cell_type": "code",
   "execution_count": 3,
   "metadata": {},
   "outputs": [
    {
     "data": {
      "text/plain": [
       "u'/home/ubuntu/nbs-git/state_farm_comp/lesson3'"
      ]
     },
     "execution_count": 3,
     "metadata": {},
     "output_type": "execute_result"
    }
   ],
   "source": [
    "%pwd"
   ]
  },
  {
   "cell_type": "code",
   "execution_count": 10,
   "metadata": {},
   "outputs": [
    {
     "name": "stdout",
     "output_type": "stream",
     "text": [
      "/home/ubuntu/nbs-git/fast-ai/state_farm_comp/lesson3/data\n",
      "classname   c0   c1   c2   c3   c4   c5   c6   c7   c8   c9\n",
      "subject                                                    \n",
      "p002        76   74   86   79   84   76   83   72   44   51\n",
      "p012        84   95   91   89   97   96   75   72   62   62\n",
      "p014       100  103  100  100  103  102  101   77   38   52\n",
      "p015        79   85   88   94  101  101   99   81   86   61\n",
      "p016       111  102  101  128  104  104  108  101   99  120\n",
      "p021       135  131  127  128  132  130  126   98   99  131\n",
      "p022       129  129  128  129  130  130  131   98   98  131\n",
      "p024       130  129  128  130  129  131  129  101   99  120\n",
      "p026       130  129  130  131  126  130  128   97   97   98\n",
      "p035        94   81   88   89   89   89   94   87   56   81\n",
      "p039        65   63   70   65   62   64   63   64   70   65\n",
      "p041        60   64   60   60   60   61   61   61   59   59\n",
      "p042        59   59   60   59   58   59   59   59   59   60\n",
      "p045        75   75   76   75   75   76   71   67   66   68\n",
      "p047        80   91   81   86   82   87   81   82   82   83\n",
      "p049        84   85  119  110  109  116  119   74   79  116\n",
      "p050       123   45   52   98   83   91   82   81   65   70\n",
      "p051       182   81   81   83   81   83   95   80   62   92\n",
      "p052        72   71   84   75   72   72   77   71   71   75\n",
      "p056        81   80   80   78   82   81   80   74   83   75\n",
      "p061        84   81   81   83   79   81   80   79   81   80\n",
      "p064        83   81   83   84   86   85   82   79   81   76\n",
      "p066       129  100  106  101  102  101  105   86  114   90\n",
      "p072        63   62   36   31   34    6   35    2   21   56\n",
      "p075        81   81   85   79   89   79   82   82   79   77\n",
      "p081       100   90   96   82   77   81   79   77   61   80\n",
      "subject\n",
      "p002     725\n",
      "p012     823\n",
      "p014     876\n",
      "p015     875\n",
      "p016    1078\n",
      "p021    1237\n",
      "p022    1233\n",
      "p024    1226\n",
      "p026    1196\n",
      "p035     848\n",
      "p039     651\n",
      "p041     605\n",
      "p042     591\n",
      "p045     724\n",
      "p047     835\n",
      "p049    1011\n",
      "p050     790\n",
      "p051     920\n",
      "p052     740\n",
      "p056     794\n",
      "p061     809\n",
      "p064     820\n",
      "p066    1034\n",
      "p072     346\n",
      "p075     814\n",
      "p081     823\n",
      "dtype: int64\n",
      "Validation subjects: p075, p050, p052\n"
     ]
    },
    {
     "data": {
      "text/plain": [
       "['c0/img_68359.jpg', 'c0/img_35502.jpg']"
      ]
     },
     "execution_count": 10,
     "metadata": {},
     "output_type": "execute_result"
    }
   ],
   "source": [
    "# Assess class distribution for the subjects in the training dataset\n",
    "%cd $DATA_HOME_DIR\n",
    "import pandas as pd\n",
    "# Read in the data table\n",
    "a = pd.read_csv('driver_imgs_list.csv')\n",
    "\n",
    "tab = a.groupby(['subject', 'classname']).size()\n",
    "print(tab.unstack())\n",
    "tab = a.groupby('subject').size()\n",
    "print(tab)\n",
    "\n",
    "# select three subjects at random for the validation set\n",
    "import random\n",
    "random.seed(100)   # So subjects selected are consistent\n",
    "b =set(np.random.permutation(a['subject']))\n",
    "subs_val = random.sample(b - set('p072'), 3)# Decided on 3 drivers with further consultation from Jeremy Howard's notebook\n",
    "print(\"Validation subjects: \" + ', '.join(subs_val))\n",
    "\n",
    "a['val.file'] = a[['classname', 'img']].apply(lambda x: '/'.join(x), axis=1)\n",
    "tab_val = a.loc[a['subject'].isin(subs_val)]\n",
    "val_files =tab_val['val.file'].tolist()\n",
    "val_files[0:2]"
   ]
  },
  {
   "cell_type": "code",
   "execution_count": 11,
   "metadata": {
    "collapsed": true
   },
   "outputs": [],
   "source": [
    "# Create the separate directories in valid and sample/train\n",
    "os.chdir(DATA_HOME_DIR+'/train')\n",
    "for d in glob('c?'):\n",
    "    os.mkdir('../sample/train/' + d)\n",
    "    os.mkdir('../sample/valid/' + d)\n",
    "    os.mkdir('../valid/' + d)"
   ]
  },
  {
   "cell_type": "code",
   "execution_count": 12,
   "metadata": {
    "collapsed": true
   },
   "outputs": [],
   "source": [
    "# Now move the files from the training folder to the validation folder\n",
    "os.chdir(DATA_HOME_DIR + '/train')\n",
    "from shutil import copyfile\n",
    "for f in val_files:\n",
    "    os.rename(f, DATA_HOME_DIR + '/valid/' + f)"
   ]
  },
  {
   "cell_type": "code",
   "execution_count": 7,
   "metadata": {
    "collapsed": true
   },
   "outputs": [],
   "source": [
    "# Now copy files to sample folders\n",
    "#How many do I want in my sample? maybe 50 train, 20 valid, 20 test [just to make sure code is working]\n",
    "train_sample = 50\n",
    "valid_sample = 20\n",
    "test_sample = 20\n",
    "\n",
    "os.chdir(DATA_HOME_DIR + '/train')\n",
    "fs = glob('c?/*.jpg')\n",
    "shuf = np.random.permutation(fs)\n",
    "for i in range(train_sample):\n",
    "    copyfile(shuf[i], '../sample/train/' + shuf[i])"
   ]
  },
  {
   "cell_type": "code",
   "execution_count": 8,
   "metadata": {
    "collapsed": true
   },
   "outputs": [],
   "source": [
    "os.chdir(DATA_HOME_DIR + '/valid')\n",
    "fs = glob('c?/*.jpg')\n",
    "shuf = np.random.permutation(fs)\n",
    "for i in range(valid_sample):\n",
    "    copyfile(shuf[i], '../sample/valid/' + shuf[i]) "
   ]
  },
  {
   "cell_type": "code",
   "execution_count": 9,
   "metadata": {
    "collapsed": true
   },
   "outputs": [],
   "source": [
    "os.chdir(DATA_HOME_DIR + '/test/unknown')\n",
    "fs = glob('*.jpg')\n",
    "shuf = np.random.permutation(fs)\n",
    "for i in range(test_sample):\n",
    "    copyfile(shuf[i], '../../sample/test/unknown/' + shuf[i]) "
   ]
  },
  {
   "cell_type": "markdown",
   "metadata": {},
   "source": [
    "So now assume I have the data in all the directories I want. Now what do I need to do? One approach is that I can make a simple linear model in keras. \n",
    "    - I need to get batches of my training data and validation data. I can use the get batches function for that. \n",
    "    - Then I can define a sequential linear model\n",
    "    "
   ]
  },
  {
   "cell_type": "code",
   "execution_count": 3,
   "metadata": {},
   "outputs": [
    {
     "name": "stdout",
     "output_type": "stream",
     "text": [
      "/home/ubuntu/nbs-git/fast-ai/state_farm_comp/lesson3/data\n"
     ]
    }
   ],
   "source": [
    "%cd $DATA_HOME_DIR\n",
    "#Set path to sample/ path if desired\n",
    "path = DATA_HOME_DIR + '/' #'/sample/'\n",
    "\n",
    "test_path = path + '/test/' \n",
    "results_path=DATA_HOME_DIR + '/results/'\n",
    "train_path=path + '/train/'\n",
    "valid_path=path + '/valid/'"
   ]
  },
  {
   "cell_type": "code",
   "execution_count": 4,
   "metadata": {
    "collapsed": true
   },
   "outputs": [],
   "source": [
    "batch_size = 64"
   ]
  },
  {
   "cell_type": "code",
   "execution_count": 5,
   "metadata": {},
   "outputs": [
    {
     "name": "stdout",
     "output_type": "stream",
     "text": [
      "Found 50 images belonging to 10 classes.\n",
      "Found 20 images belonging to 10 classes.\n"
     ]
    }
   ],
   "source": [
    "train_batches = get_batches(train_path, batch_size=batch_size)\n",
    "val_batches = get_batches(valid_path, batch_size=batch_size*2, shuffle=False)"
   ]
  },
  {
   "cell_type": "code",
   "execution_count": 6,
   "metadata": {
    "collapsed": true
   },
   "outputs": [],
   "source": [
    "??get_classes"
   ]
  },
  {
   "cell_type": "code",
   "execution_count": 7,
   "metadata": {},
   "outputs": [
    {
     "name": "stdout",
     "output_type": "stream",
     "text": [
      "Found 50 images belonging to 10 classes.\n",
      "Found 20 images belonging to 10 classes.\n",
      "Found 20 images belonging to 1 classes.\n"
     ]
    }
   ],
   "source": [
    "(val_classes, trn_classes, val_labels, trn_labels, val_filenames, \n",
    " train_filenames, test_filenames) = get_classes(path)"
   ]
  },
  {
   "cell_type": "code",
   "execution_count": 10,
   "metadata": {
    "collapsed": true
   },
   "outputs": [],
   "source": [
    "model = Sequential([\n",
    "    BatchNormalization(axis=1, input_shape=(3,224,224)),\n",
    "    Flatten(),\n",
    "    Dense(10, activation=\"softmax\")\n",
    "])"
   ]
  },
  {
   "cell_type": "code",
   "execution_count": 11,
   "metadata": {
    "collapsed": true
   },
   "outputs": [],
   "source": [
    "model.compile(optimizer=\"adam\",\n",
    "             loss=\"categorical_crossentropy\",\n",
    "             metrics=['accuracy'])"
   ]
  },
  {
   "cell_type": "code",
   "execution_count": 16,
   "metadata": {},
   "outputs": [
    {
     "name": "stdout",
     "output_type": "stream",
     "text": [
      "Epoch 1/10\n",
      "50/50 [==============================] - 1s - loss: 9.7120 - acc: 0.1200 - val_loss: 15.3122 - val_acc: 0.0500\n",
      "Epoch 2/10\n",
      "50/50 [==============================] - 0s - loss: 10.9603 - acc: 0.3200 - val_loss: 15.3122 - val_acc: 0.0500\n",
      "Epoch 3/10\n",
      "50/50 [==============================] - 0s - loss: 11.2827 - acc: 0.3000 - val_loss: 15.3122 - val_acc: 0.0500\n",
      "Epoch 4/10\n",
      "50/50 [==============================] - 0s - loss: 11.2827 - acc: 0.3000 - val_loss: 15.3122 - val_acc: 0.0500\n",
      "Epoch 5/10\n",
      "50/50 [==============================] - 0s - loss: 11.2827 - acc: 0.3000 - val_loss: 15.3122 - val_acc: 0.0500\n",
      "Epoch 6/10\n",
      "50/50 [==============================] - 1s - loss: 11.2827 - acc: 0.3000 - val_loss: 15.3122 - val_acc: 0.0500\n",
      "Epoch 7/10\n",
      "50/50 [==============================] - 0s - loss: 11.2827 - acc: 0.3000 - val_loss: 15.3122 - val_acc: 0.0500\n",
      "Epoch 8/10\n",
      "50/50 [==============================] - 0s - loss: 11.2827 - acc: 0.3000 - val_loss: 15.3122 - val_acc: 0.0500\n",
      "Epoch 9/10\n",
      "50/50 [==============================] - 0s - loss: 11.2827 - acc: 0.3000 - val_loss: 15.3122 - val_acc: 0.0500\n",
      "Epoch 10/10\n",
      "50/50 [==============================] - 0s - loss: 11.2827 - acc: 0.3000 - val_loss: 15.3122 - val_acc: 0.0500\n"
     ]
    },
    {
     "data": {
      "text/plain": [
       "<keras.callbacks.History at 0x7ff0901f6250>"
      ]
     },
     "execution_count": 16,
     "metadata": {},
     "output_type": "execute_result"
    }
   ],
   "source": [
    "model.fit_generator(train_batches, train_batches.nb_sample, nb_epoch=10, \n",
    "                    validation_data=val_batches, nb_val_samples=val_batches.nb_sample)"
   ]
  },
  {
   "cell_type": "code",
   "execution_count": 20,
   "metadata": {},
   "outputs": [
    {
     "data": {
      "text/plain": [
       "array([[ 0.,  0.,  0.,  0.,  0.,  0.,  0.,  1.,  0.,  0.],\n",
       "       [ 1.,  0.,  0.,  0.,  0.,  0.,  0.,  0.,  0.,  0.],\n",
       "       [ 1.,  0.,  0.,  0.,  0.,  0.,  0.,  0.,  0.,  0.],\n",
       "       [ 1.,  0.,  0.,  0.,  0.,  0.,  0.,  0.,  0.,  0.],\n",
       "       [ 1.,  0.,  0.,  0.,  0.,  0.,  0.,  0.,  0.,  0.],\n",
       "       [ 1.,  0.,  0.,  0.,  0.,  0.,  0.,  0.,  0.,  0.],\n",
       "       [ 1.,  0.,  0.,  0.,  0.,  0.,  0.,  0.,  0.,  0.],\n",
       "       [ 1.,  0.,  0.,  0.,  0.,  0.,  0.,  0.,  0.,  0.],\n",
       "       [ 1.,  0.,  0.,  0.,  0.,  0.,  0.,  0.,  0.,  0.],\n",
       "       [ 0.,  0.,  0.,  0.,  0.,  0.,  0.,  1.,  0.,  0.]], dtype=float32)"
      ]
     },
     "execution_count": 20,
     "metadata": {},
     "output_type": "execute_result"
    }
   ],
   "source": [
    "np.round(model.predict_generator(train_batches, train_batches.nb_sample)[:10], 2)"
   ]
  },
  {
   "cell_type": "markdown",
   "metadata": {},
   "source": [
    "Nearly always predicting 1 of 2 classes. Decrease the learning rate to see if it will do better"
   ]
  },
  {
   "cell_type": "code",
   "execution_count": 21,
   "metadata": {},
   "outputs": [
    {
     "name": "stdout",
     "output_type": "stream",
     "text": [
      "Epoch 1/10\n",
      "50/50 [==============================] - 1s - loss: 3.6615 - acc: 0.1600 - val_loss: 14.6681 - val_acc: 0.0500\n",
      "Epoch 2/10\n",
      "50/50 [==============================] - 1s - loss: 2.5600 - acc: 0.1800 - val_loss: 10.4166 - val_acc: 0.0500\n",
      "Epoch 3/10\n",
      "50/50 [==============================] - 0s - loss: 2.1767 - acc: 0.3600 - val_loss: 8.3791 - val_acc: 0.0500\n",
      "Epoch 4/10\n",
      "50/50 [==============================] - 0s - loss: 1.8068 - acc: 0.4600 - val_loss: 7.3171 - val_acc: 0.0500\n",
      "Epoch 5/10\n",
      "50/50 [==============================] - 0s - loss: 1.5889 - acc: 0.5000 - val_loss: 6.8109 - val_acc: 0.0500\n",
      "Epoch 6/10\n",
      "50/50 [==============================] - 0s - loss: 1.1698 - acc: 0.6400 - val_loss: 6.4534 - val_acc: 0.0500\n",
      "Epoch 7/10\n",
      "50/50 [==============================] - 0s - loss: 1.0534 - acc: 0.6600 - val_loss: 6.4669 - val_acc: 0.0500\n",
      "Epoch 8/10\n",
      "50/50 [==============================] - 0s - loss: 0.9361 - acc: 0.7200 - val_loss: 6.4526 - val_acc: 0.1000\n",
      "Epoch 9/10\n",
      "50/50 [==============================] - 0s - loss: 0.8546 - acc: 0.7400 - val_loss: 5.9429 - val_acc: 0.1000\n",
      "Epoch 10/10\n",
      "50/50 [==============================] - 0s - loss: 0.6641 - acc: 0.8600 - val_loss: 5.5745 - val_acc: 0.1000\n"
     ]
    },
    {
     "data": {
      "text/plain": [
       "<keras.callbacks.History at 0x7ff08d11d910>"
      ]
     },
     "execution_count": 21,
     "metadata": {},
     "output_type": "execute_result"
    }
   ],
   "source": [
    "model = Sequential([\n",
    "    BatchNormalization(axis=1, input_shape=(3,224,224)),\n",
    "    Flatten(),\n",
    "    Dense(10, activation=\"softmax\")\n",
    "])\n",
    "\n",
    "model.compile(optimizer=Adam(lr=1e-5),\n",
    "             loss=\"categorical_crossentropy\",\n",
    "             metrics=['accuracy'])\n",
    "\n",
    "model.fit_generator(train_batches, train_batches.nb_sample, nb_epoch=10, \n",
    "                    validation_data=val_batches, nb_val_samples=val_batches.nb_sample)"
   ]
  },
  {
   "cell_type": "code",
   "execution_count": 22,
   "metadata": {},
   "outputs": [
    {
     "data": {
      "text/plain": [
       "150528"
      ]
     },
     "execution_count": 22,
     "metadata": {},
     "output_type": "execute_result"
    }
   ],
   "source": [
    "3 * 224 * 224"
   ]
  },
  {
   "cell_type": "markdown",
   "metadata": {},
   "source": [
    "There are 150528 pixels. Thus, with 10 hidden units, the model can overfit the training data as much as it wants. That is what I see, ever increasing accuracy on the training set but no increase in accuracy on the validation set beyond chance (predicting the same class for all samples)"
   ]
  },
  {
   "cell_type": "markdown",
   "metadata": {},
   "source": [
    "Let's go ahead straight to the Vgg16 pre-trained model and fine-tune it. If that takes too long, I can pre-compute the convolutional layers and then train the other layers. After I do this, I can go back and look through all the steps that he did."
   ]
  },
  {
   "cell_type": "code",
   "execution_count": 23,
   "metadata": {},
   "outputs": [
    {
     "name": "stdout",
     "output_type": "stream",
     "text": [
      "Epoch 1/10\n",
      "50/50 [==============================] - 22s - loss: 4.3720 - acc: 0.1400 - val_loss: 4.5390 - val_acc: 0.0500\n",
      "Epoch 2/10\n",
      "50/50 [==============================] - 21s - loss: 4.9361 - acc: 0.1400 - val_loss: 4.0187 - val_acc: 0.0500\n",
      "Epoch 3/10\n",
      "50/50 [==============================] - 21s - loss: 3.2543 - acc: 0.3600 - val_loss: 3.2506 - val_acc: 0.2500\n",
      "Epoch 4/10\n",
      "50/50 [==============================] - 21s - loss: 2.8068 - acc: 0.3200 - val_loss: 2.8694 - val_acc: 0.2000\n",
      "Epoch 5/10\n",
      "50/50 [==============================] - 21s - loss: 3.3810 - acc: 0.2200 - val_loss: 3.1717 - val_acc: 0.1500\n",
      "Epoch 6/10\n",
      "50/50 [==============================] - 21s - loss: 2.6494 - acc: 0.3000 - val_loss: 3.0018 - val_acc: 0.1500\n",
      "Epoch 7/10\n",
      "50/50 [==============================] - 21s - loss: 1.7781 - acc: 0.4400 - val_loss: 2.7893 - val_acc: 0.1500\n",
      "Epoch 8/10\n",
      "50/50 [==============================] - 21s - loss: 2.0502 - acc: 0.5000 - val_loss: 2.9055 - val_acc: 0.2000\n",
      "Epoch 9/10\n",
      "50/50 [==============================] - 21s - loss: 1.5123 - acc: 0.5600 - val_loss: 3.0757 - val_acc: 0.0500\n",
      "Epoch 10/10\n",
      "50/50 [==============================] - 21s - loss: 1.6710 - acc: 0.4600 - val_loss: 2.8468 - val_acc: 0.2000\n"
     ]
    }
   ],
   "source": [
    "vgg_model = Vgg16()\n",
    "vgg_model.finetune(train_batches)\n",
    "vgg_model.fit(train_batches, val_batches, nb_epoch=10)"
   ]
  },
  {
   "cell_type": "markdown",
   "metadata": {},
   "source": [
    "The fine-tuned Vgg model on this amount of data can start to fit the training data and at least get to 20% validation accuracy.\n",
    "I am using a vanishingly small amount of the data, so this is probably not a good test of these parameters, and pre-trained model architecture. IT IS EXCITING TO ME HOW SIMPLE THE VGG16 CODE NOW LOOKS. It is starting to make a lot of sense."
   ]
  },
  {
   "cell_type": "markdown",
   "metadata": {},
   "source": [
    "I think now I should start going through Jeremy Howard's approach. Try to write the code myself after looking at his, or especially just after considering his thoughts. I am working towards having my own thoughts on how to improve accuracy and being able to implement those thoughts through keras/theano directly, rather than through Jeremy's code. I can't rely on him as a crutch, though he is certainly helping me to learn things faster."
   ]
  },
  {
   "cell_type": "markdown",
   "metadata": {},
   "source": [
    "## My approach to good performance"
   ]
  },
  {
   "cell_type": "markdown",
   "metadata": {},
   "source": [
    "I am going to recreate what Jeremy Howard did in his State Farm submission, and I will build on it. I will use the pre-trained Vgg16 network, with data augmentation, and dropout and batch normalization on the dense layers. I will use the same network that he used, basically. I will train this model with sequential lowering of learning rate on the validation set. Once performance stabilizes I will PREDICT ON THE TEST SET. I am going to do a 5x larger training set with data augmentation. And I will do a 2x larger test set with data augmentation after I have my predictions (Actually, right now I only do 1x test set, I'll keep at that for now). Then I will continue to refine the model that I used (with the saved weights from the first time around). I should be able to get all of this code working on the CPU before I do it on the GPU, simply using my samples. The experiments won't be of any consequence.\n",
    "\n",
    "At each step I need to save weights as necessary."
   ]
  },
  {
   "cell_type": "code",
   "execution_count": 5,
   "metadata": {},
   "outputs": [],
   "source": [
    "vgg = Vgg16()\n",
    "model = vgg.model"
   ]
  },
  {
   "cell_type": "code",
   "execution_count": 6,
   "metadata": {
    "collapsed": true
   },
   "outputs": [],
   "source": [
    "batch_size = 64"
   ]
  },
  {
   "cell_type": "code",
   "execution_count": 7,
   "metadata": {
    "collapsed": true
   },
   "outputs": [],
   "source": [
    "last_conv_idx = [i for i,l in enumerate(model.layers) if type(l) is Convolution2D][-1]\n",
    "conv_layers = model.layers[:last_conv_idx+1]"
   ]
  },
  {
   "cell_type": "code",
   "execution_count": 18,
   "metadata": {},
   "outputs": [
    {
     "name": "stdout",
     "output_type": "stream",
     "text": [
      "Found 2344 images belonging to 10 classes.\n",
      "Found 79726 images belonging to 1 classes.\n"
     ]
    }
   ],
   "source": [
    "conv_model = Sequential(conv_layers)\n",
    "#train_batches = get_batches(train_path, batch_size=batch_size, shuffle=False)\n",
    "val_batches = get_batches(valid_path, batch_size=batch_size*2, shuffle=False)\n",
    "test_batches = get_batches(test_path, batch_size=batch_size, shuffle=False)\n",
    "#conv_feat = conv_model.predict_generator(train_batches, train_batches.nb_sample)\n",
    "conv_val_feat = conv_model.predict_generator(val_batches, val_batches.nb_sample)\n",
    "conv_test_feat = conv_model.predict_generator(test_batches, test_batches.nb_sample)"
   ]
  },
  {
   "cell_type": "code",
   "execution_count": 15,
   "metadata": {},
   "outputs": [
    {
     "name": "stdout",
     "output_type": "stream",
     "text": [
      "Found 20080 images belonging to 10 classes.\n",
      "Found 2344 images belonging to 10 classes.\n",
      "Found 79726 images belonging to 1 classes.\n"
     ]
    }
   ],
   "source": [
    "(val_classes, trn_classes, val_labels, trn_labels, val_filenames, \n",
    " train_filenames, test_filenames) = get_classes(path)"
   ]
  },
  {
   "cell_type": "code",
   "execution_count": 19,
   "metadata": {
    "collapsed": true
   },
   "outputs": [],
   "source": [
    "#save_array(path + \"results/conv_feat.dat\", conv_feat)\n",
    "save_array(path + \"results/conv_val_feat.dat\", conv_val_feat)\n",
    "save_array(path + \"results/conv_test_feat.dat\", conv_test_feat)"
   ]
  },
  {
   "cell_type": "code",
   "execution_count": 5,
   "metadata": {
    "collapsed": true
   },
   "outputs": [],
   "source": [
    "#conv_feat = load_array(path + \"results/conv_feat.dat\")\n",
    "conv_val_feat = load_array(path + \"results/conv_val_feat.dat\")\n",
    "conv_test_feat = load_array(path + \"results/conv_test_feat.dat\")"
   ]
  },
  {
   "cell_type": "code",
   "execution_count": 28,
   "metadata": {},
   "outputs": [
    {
     "data": {
      "text/plain": [
       "(79726, 512, 14, 14)"
      ]
     },
     "execution_count": 28,
     "metadata": {},
     "output_type": "execute_result"
    }
   ],
   "source": [
    "conv_test_feat.shape"
   ]
  },
  {
   "cell_type": "markdown",
   "metadata": {},
   "source": [
    "Link to working with bcolz with my memory errors:\n",
    "http://forums.fast.ai/t/statefarm-kaggle-comp/183/151\n",
    "http://forums.fast.ai/t/state-farm-full-how-not-to-run-out-of-memory-with-vgg-da-batches-samples-5/3469\n",
    "It seems the predict_generator was the problem, with doing 5 batches all at once. It looks like I'll have to do 5 batches one at a time and concatenate the results. Or i'll have to do them one at a time in a clever way all the way through."
   ]
  },
  {
   "cell_type": "code",
   "execution_count": 30,
   "metadata": {},
   "outputs": [
    {
     "name": "stdout",
     "output_type": "stream",
     "text": [
      "Found 20080 images belonging to 10 classes.\n"
     ]
    },
    {
     "ename": "NameError",
     "evalue": "name 'conv_feat' is not defined",
     "output_type": "error",
     "traceback": [
      "\u001b[0;31m---------------------------------------------------------------------------\u001b[0m",
      "\u001b[0;31mNameError\u001b[0m                                 Traceback (most recent call last)",
      "\u001b[0;32m<ipython-input-30-616970d12dcd>\u001b[0m in \u001b[0;36m<module>\u001b[0;34m()\u001b[0m\n\u001b[1;32m      7\u001b[0m \u001b[0;34m\u001b[0m\u001b[0m\n\u001b[1;32m      8\u001b[0m \u001b[0;31m# Include the real training data too in unaugmented form\u001b[0m\u001b[0;34m\u001b[0m\u001b[0;34m\u001b[0m\u001b[0m\n\u001b[0;32m----> 9\u001b[0;31m \u001b[0mda_conv_feat\u001b[0m \u001b[0;34m=\u001b[0m \u001b[0mnp\u001b[0m\u001b[0;34m.\u001b[0m\u001b[0mconcatenate\u001b[0m\u001b[0;34m(\u001b[0m\u001b[0;34m[\u001b[0m\u001b[0mda_conv_feat\u001b[0m\u001b[0;34m,\u001b[0m \u001b[0mconv_feat\u001b[0m\u001b[0;34m]\u001b[0m\u001b[0;34m)\u001b[0m\u001b[0;34m\u001b[0m\u001b[0m\n\u001b[0m\u001b[1;32m     10\u001b[0m \u001b[0mda_trn_labels\u001b[0m \u001b[0;34m=\u001b[0m \u001b[0mnp\u001b[0m\u001b[0;34m.\u001b[0m\u001b[0mconcatenate\u001b[0m\u001b[0;34m(\u001b[0m\u001b[0;34m[\u001b[0m\u001b[0mtrn_labels\u001b[0m\u001b[0;34m]\u001b[0m\u001b[0;34m*\u001b[0m\u001b[0;36m6\u001b[0m\u001b[0;34m)\u001b[0m\u001b[0;34m\u001b[0m\u001b[0m\n",
      "\u001b[0;31mNameError\u001b[0m: name 'conv_feat' is not defined"
     ]
    }
   ],
   "source": [
    "gen_t = image.ImageDataGenerator(rotation_range=15, height_shift_range=0.05,\n",
    "                                shear_range=0.1, channel_shift_range=20, width_shift_range=0.1)\n",
    "da_batches= get_batches(train_path, gen_t, batch_size=batch_size, shuffle=False)\n",
    "da_conv_feat = conv_model.predict_generator(da_batches, da_batches.nb_sample*1)\n",
    "save_array(path + \"results/da_conv_feat2.dat\", da_conv_feat)\n",
    "#da_conv_feat = load_array(path + \"results/da_conv_feat2.dat\")\n",
    "\n",
    "# Include the real training data too in unaugmented form\n",
    "#da_conv_feat = np.concatenate([da_conv_feat, conv_feat])  # conv_feat had not been defined above yet, I'll just stick with this one\n",
    "#da_trn_labels = np.concatenate([trn_labels]*6)"
   ]
  },
  {
   "cell_type": "code",
   "execution_count": 32,
   "metadata": {
    "collapsed": true
   },
   "outputs": [],
   "source": [
    "da_trn_labels = trn_labels"
   ]
  },
  {
   "cell_type": "code",
   "execution_count": null,
   "metadata": {
    "collapsed": true
   },
   "outputs": [],
   "source": [
    "# If "
   ]
  },
  {
   "cell_type": "code",
   "execution_count": 8,
   "metadata": {
    "collapsed": true
   },
   "outputs": [],
   "source": [
    "def get_my_layers(p=0.8):\n",
    "    return [\n",
    "        MaxPooling2D(input_shape = conv_layers[-1].output_shape[1:]),\n",
    "        Flatten(),\n",
    "        Dropout(p),\n",
    "        Dense(256, activation='relu'),\n",
    "        BatchNormalization(),\n",
    "        Dropout(p),\n",
    "        Dense(256, activation='relu'),\n",
    "        BatchNormalization(),\n",
    "        Dropout(p),\n",
    "        Dense(10, activation='softmax')\n",
    "        ]\n",
    "            \n",
    "        "
   ]
  },
  {
   "cell_type": "markdown",
   "metadata": {},
   "source": [
    "# Train the Model"
   ]
  },
  {
   "cell_type": "code",
   "execution_count": 7,
   "metadata": {
    "collapsed": true
   },
   "outputs": [],
   "source": [
    "# If loading convolutional layers from disk\n",
    "da_conv_feat = load_array(path + \"results/da_conv_feat2.dat\")\n",
    "da_trn_labels = trn_labels\n",
    "# This code ran in just a few seconds"
   ]
  },
  {
   "cell_type": "code",
   "execution_count": 13,
   "metadata": {
    "collapsed": true
   },
   "outputs": [],
   "source": [
    "conv_val_feat = load_array(path + \"results/conv_val_feat.dat\")"
   ]
  },
  {
   "cell_type": "code",
   "execution_count": 14,
   "metadata": {},
   "outputs": [
    {
     "name": "stdout",
     "output_type": "stream",
     "text": [
      "Train on 20080 samples, validate on 2344 samples\n",
      "Epoch 1/2\n",
      "20080/20080 [==============================] - 9s - loss: 3.3360 - acc: 0.1750 - val_loss: 1.5684 - val_acc: 0.5068\n",
      "Epoch 2/2\n",
      "20080/20080 [==============================] - 9s - loss: 1.7831 - acc: 0.3721 - val_loss: 1.3403 - val_acc: 0.6088\n"
     ]
    },
    {
     "data": {
      "text/plain": [
       "<keras.callbacks.History at 0x7f4b4f0a0ed0>"
      ]
     },
     "execution_count": 14,
     "metadata": {},
     "output_type": "execute_result"
    }
   ],
   "source": [
    "p=0.8\n",
    "da_dis_model = Sequential(get_my_layers(p))\n",
    "da_dis_model.compile(optimizer=Adam(lr=0.001),\n",
    "             loss=\"categorical_crossentropy\",\n",
    "             metrics=['accuracy'])\n",
    "\n",
    "da_dis_model.fit(da_conv_feat, da_trn_labels, batch_size=batch_size, nb_epoch=2, \n",
    "                    validation_data=(conv_val_feat, val_labels))"
   ]
  },
  {
   "cell_type": "code",
   "execution_count": 15,
   "metadata": {},
   "outputs": [
    {
     "name": "stdout",
     "output_type": "stream",
     "text": [
      "Train on 20080 samples, validate on 2344 samples\n",
      "Epoch 1/5\n",
      "20080/20080 [==============================] - 9s - loss: 1.3259 - acc: 0.5134 - val_loss: 1.1694 - val_acc: 0.6472\n",
      "Epoch 2/5\n",
      "20080/20080 [==============================] - 9s - loss: 1.0949 - acc: 0.6045 - val_loss: 1.0576 - val_acc: 0.6920\n",
      "Epoch 3/5\n",
      "20080/20080 [==============================] - 9s - loss: 0.9622 - acc: 0.6566 - val_loss: 1.0197 - val_acc: 0.6817\n",
      "Epoch 4/5\n",
      "20080/20080 [==============================] - 9s - loss: 0.8589 - acc: 0.6989 - val_loss: 0.8785 - val_acc: 0.7462\n",
      "Epoch 5/5\n",
      "20080/20080 [==============================] - 9s - loss: 0.7787 - acc: 0.7344 - val_loss: 0.8057 - val_acc: 0.7624\n"
     ]
    },
    {
     "data": {
      "text/plain": [
       "<keras.callbacks.History at 0x7f4d6fd11410>"
      ]
     },
     "execution_count": 15,
     "metadata": {},
     "output_type": "execute_result"
    }
   ],
   "source": [
    "da_dis_model.optimizer.lr = 0.01\n",
    "\n",
    "da_dis_model.fit(da_conv_feat, da_trn_labels, batch_size=batch_size, nb_epoch=5, \n",
    "                    validation_data=(conv_val_feat, val_labels))"
   ]
  },
  {
   "cell_type": "code",
   "execution_count": 16,
   "metadata": {},
   "outputs": [
    {
     "name": "stdout",
     "output_type": "stream",
     "text": [
      "Train on 20080 samples, validate on 2344 samples\n",
      "Epoch 1/8\n",
      "20080/20080 [==============================] - 9s - loss: 0.7268 - acc: 0.7518 - val_loss: 0.8227 - val_acc: 0.7713\n",
      "Epoch 2/8\n",
      "20080/20080 [==============================] - 9s - loss: 0.6803 - acc: 0.7699 - val_loss: 0.7901 - val_acc: 0.7585\n",
      "Epoch 3/8\n",
      "20080/20080 [==============================] - 9s - loss: 0.6414 - acc: 0.7845 - val_loss: 0.7874 - val_acc: 0.7726\n",
      "Epoch 4/8\n",
      "20080/20080 [==============================] - 9s - loss: 0.6060 - acc: 0.8009 - val_loss: 0.7971 - val_acc: 0.7854\n",
      "Epoch 5/8\n",
      "20080/20080 [==============================] - 9s - loss: 0.5842 - acc: 0.8095 - val_loss: 0.7898 - val_acc: 0.7769\n",
      "Epoch 6/8\n",
      "20080/20080 [==============================] - 9s - loss: 0.5544 - acc: 0.8150 - val_loss: 0.7640 - val_acc: 0.7794\n",
      "Epoch 7/8\n",
      "20080/20080 [==============================] - 9s - loss: 0.5400 - acc: 0.8231 - val_loss: 0.8090 - val_acc: 0.7803\n",
      "Epoch 8/8\n",
      "20080/20080 [==============================] - 9s - loss: 0.5102 - acc: 0.8326 - val_loss: 0.7505 - val_acc: 0.7910\n"
     ]
    },
    {
     "data": {
      "text/plain": [
       "<keras.callbacks.History at 0x7f4d6fd11450>"
      ]
     },
     "execution_count": 16,
     "metadata": {},
     "output_type": "execute_result"
    }
   ],
   "source": [
    "da_dis_model.optimizer.lr = 0.0001\n",
    "\n",
    "da_dis_model.fit(da_conv_feat, da_trn_labels, batch_size=batch_size, nb_epoch=8, \n",
    "                    validation_data=(conv_val_feat, val_labels))"
   ]
  },
  {
   "cell_type": "code",
   "execution_count": 17,
   "metadata": {},
   "outputs": [
    {
     "name": "stdout",
     "output_type": "stream",
     "text": [
      "Train on 20080 samples, validate on 2344 samples\n",
      "Epoch 1/8\n",
      "20080/20080 [==============================] - 9s - loss: 0.5059 - acc: 0.8353 - val_loss: 0.6954 - val_acc: 0.8025\n",
      "Epoch 2/8\n",
      "20080/20080 [==============================] - 9s - loss: 0.4824 - acc: 0.8451 - val_loss: 0.7284 - val_acc: 0.7986\n",
      "Epoch 3/8\n",
      "20080/20080 [==============================] - 9s - loss: 0.4748 - acc: 0.8462 - val_loss: 0.7226 - val_acc: 0.7982\n",
      "Epoch 4/8\n",
      "20080/20080 [==============================] - 9s - loss: 0.4661 - acc: 0.8466 - val_loss: 0.7647 - val_acc: 0.7846\n",
      "Epoch 5/8\n",
      "20080/20080 [==============================] - 9s - loss: 0.4543 - acc: 0.8539 - val_loss: 0.7337 - val_acc: 0.7952\n",
      "Epoch 6/8\n",
      "20080/20080 [==============================] - 9s - loss: 0.4434 - acc: 0.8557 - val_loss: 0.7691 - val_acc: 0.7922\n",
      "Epoch 7/8\n",
      "20080/20080 [==============================] - 9s - loss: 0.4395 - acc: 0.8604 - val_loss: 0.7209 - val_acc: 0.7974\n",
      "Epoch 8/8\n",
      "20080/20080 [==============================] - 9s - loss: 0.4259 - acc: 0.8615 - val_loss: 0.8315 - val_acc: 0.7747\n"
     ]
    },
    {
     "data": {
      "text/plain": [
       "<keras.callbacks.History at 0x7f4d6fd115d0>"
      ]
     },
     "execution_count": 17,
     "metadata": {},
     "output_type": "execute_result"
    }
   ],
   "source": [
    "da_dis_model.optimizer.lr = 0.00005\n",
    "\n",
    "da_dis_model.fit(da_conv_feat, da_trn_labels, batch_size=batch_size, nb_epoch=8, \n",
    "                    validation_data=(conv_val_feat, val_labels))"
   ]
  },
  {
   "cell_type": "code",
   "execution_count": 18,
   "metadata": {},
   "outputs": [
    {
     "name": "stdout",
     "output_type": "stream",
     "text": [
      "Train on 20080 samples, validate on 2344 samples\n",
      "Epoch 1/8\n",
      "20080/20080 [==============================] - 9s - loss: 0.4160 - acc: 0.8655 - val_loss: 0.7294 - val_acc: 0.7914\n",
      "Epoch 2/8\n",
      "20080/20080 [==============================] - 9s - loss: 0.4078 - acc: 0.8674 - val_loss: 0.7492 - val_acc: 0.7914\n",
      "Epoch 3/8\n",
      "20080/20080 [==============================] - 9s - loss: 0.3990 - acc: 0.8712 - val_loss: 0.7779 - val_acc: 0.7867\n",
      "Epoch 4/8\n",
      "20080/20080 [==============================] - 9s - loss: 0.4053 - acc: 0.8667 - val_loss: 0.7568 - val_acc: 0.7965\n",
      "Epoch 5/8\n",
      "20080/20080 [==============================] - 9s - loss: 0.3799 - acc: 0.8782 - val_loss: 0.7514 - val_acc: 0.7969\n",
      "Epoch 6/8\n",
      "20080/20080 [==============================] - 9s - loss: 0.3885 - acc: 0.8766 - val_loss: 0.7498 - val_acc: 0.7897\n",
      "Epoch 7/8\n",
      "20080/20080 [==============================] - 9s - loss: 0.3843 - acc: 0.8743 - val_loss: 0.7241 - val_acc: 0.8038\n",
      "Epoch 8/8\n",
      "20080/20080 [==============================] - 9s - loss: 0.3731 - acc: 0.8811 - val_loss: 0.7721 - val_acc: 0.7956\n"
     ]
    },
    {
     "data": {
      "text/plain": [
       "<keras.callbacks.History at 0x7f4b8d147ed0>"
      ]
     },
     "execution_count": 18,
     "metadata": {},
     "output_type": "execute_result"
    }
   ],
   "source": [
    "da_dis_model.optimizer.lr = 0.000005\n",
    "\n",
    "da_dis_model.fit(da_conv_feat, da_trn_labels, batch_size=batch_size, nb_epoch=8, \n",
    "                    validation_data=(conv_val_feat, val_labels))"
   ]
  },
  {
   "cell_type": "code",
   "execution_count": 19,
   "metadata": {},
   "outputs": [
    {
     "name": "stdout",
     "output_type": "stream",
     "text": [
      "Train on 20080 samples, validate on 2344 samples\n",
      "Epoch 1/8\n",
      "20080/20080 [==============================] - 9s - loss: 0.3544 - acc: 0.8833 - val_loss: 0.7639 - val_acc: 0.7948\n",
      "Epoch 2/8\n",
      "20080/20080 [==============================] - 9s - loss: 0.3665 - acc: 0.8817 - val_loss: 0.7959 - val_acc: 0.7892\n",
      "Epoch 3/8\n",
      "20080/20080 [==============================] - 9s - loss: 0.3582 - acc: 0.8823 - val_loss: 0.7778 - val_acc: 0.7978\n",
      "Epoch 4/8\n",
      "20080/20080 [==============================] - 9s - loss: 0.3617 - acc: 0.8864 - val_loss: 0.7854 - val_acc: 0.7922\n",
      "Epoch 5/8\n",
      "20080/20080 [==============================] - 9s - loss: 0.3523 - acc: 0.8861 - val_loss: 0.6829 - val_acc: 0.8127\n",
      "Epoch 6/8\n",
      "20080/20080 [==============================] - 9s - loss: 0.3418 - acc: 0.8886 - val_loss: 0.7368 - val_acc: 0.8059\n",
      "Epoch 7/8\n",
      "20080/20080 [==============================] - 9s - loss: 0.3431 - acc: 0.8868 - val_loss: 0.7389 - val_acc: 0.7986\n",
      "Epoch 8/8\n",
      "20080/20080 [==============================] - 9s - loss: 0.3352 - acc: 0.8933 - val_loss: 0.7891 - val_acc: 0.7982\n"
     ]
    },
    {
     "data": {
      "text/plain": [
       "<keras.callbacks.History at 0x7f4dc033c050>"
      ]
     },
     "execution_count": 19,
     "metadata": {},
     "output_type": "execute_result"
    }
   ],
   "source": [
    "da_dis_model.optimizer.lr = 0.0000005\n",
    "\n",
    "da_dis_model.fit(da_conv_feat, da_trn_labels, batch_size=batch_size, nb_epoch=8, \n",
    "                    validation_data=(conv_val_feat, val_labels))"
   ]
  },
  {
   "cell_type": "code",
   "execution_count": 20,
   "metadata": {
    "collapsed": true
   },
   "outputs": [],
   "source": [
    "da_dis_model.save_weights(path + \"results/da_dis_conv_model_12302017_onetrain.h5\")"
   ]
  },
  {
   "cell_type": "markdown",
   "metadata": {},
   "source": [
    "# Train on test Data alone due to too large data"
   ]
  },
  {
   "cell_type": "code",
   "execution_count": 19,
   "metadata": {
    "collapsed": true
   },
   "outputs": [],
   "source": [
    "conv_val_feat = load_array(path + \"results/conv_val_feat.dat\")"
   ]
  },
  {
   "cell_type": "code",
   "execution_count": null,
   "metadata": {
    "collapsed": true
   },
   "outputs": [],
   "source": [
    "p=0.8\n",
    "da_dis_model = Sequential(get_my_layers(p))\n",
    "da_dis_model.load_weights(path + \"results/da_dis_conv_model_12302017_onetrain.h5\")"
   ]
  },
  {
   "cell_type": "code",
   "execution_count": 20,
   "metadata": {
    "collapsed": true
   },
   "outputs": [],
   "source": [
    "test_pseudo = da_dis_model.predict(conv_test_feat, batch_size=batch_size)"
   ]
  },
  {
   "cell_type": "code",
   "execution_count": 22,
   "metadata": {},
   "outputs": [
    {
     "name": "stdout",
     "output_type": "stream",
     "text": [
      "Train on 79726 samples, validate on 2344 samples\n",
      "Epoch 1/8\n",
      "79726/79726 [==============================] - 35s - loss: 1.2210 - acc: 0.6786 - val_loss: 0.7175 - val_acc: 0.7991\n",
      "Epoch 2/8\n",
      "79726/79726 [==============================] - 34s - loss: 1.0242 - acc: 0.7048 - val_loss: 0.7097 - val_acc: 0.7969\n",
      "Epoch 3/8\n",
      "79726/79726 [==============================] - 35s - loss: 0.9503 - acc: 0.7245 - val_loss: 0.7159 - val_acc: 0.7986\n",
      "Epoch 4/8\n",
      "79726/79726 [==============================] - 34s - loss: 0.9055 - acc: 0.7439 - val_loss: 0.7054 - val_acc: 0.7995\n",
      "Epoch 5/8\n",
      "79726/79726 [==============================] - 34s - loss: 0.8727 - acc: 0.7586 - val_loss: 0.7025 - val_acc: 0.7999\n",
      "Epoch 6/8\n",
      "79726/79726 [==============================] - 34s - loss: 0.8488 - acc: 0.7691 - val_loss: 0.6992 - val_acc: 0.7991\n",
      "Epoch 7/8\n",
      "79726/79726 [==============================] - 34s - loss: 0.8266 - acc: 0.7809 - val_loss: 0.7073 - val_acc: 0.8008\n",
      "Epoch 8/8\n",
      "79726/79726 [==============================] - 34s - loss: 0.8109 - acc: 0.7888 - val_loss: 0.6976 - val_acc: 0.7999\n"
     ]
    },
    {
     "data": {
      "text/plain": [
       "<keras.callbacks.History at 0x7fd4dd6ba350>"
      ]
     },
     "execution_count": 22,
     "metadata": {},
     "output_type": "execute_result"
    }
   ],
   "source": [
    "#da_dis_model.optimizer.lr = 0.0001\n",
    "da_dis_model.compile(optimizer=Adam(lr=0.0001),\n",
    "             loss=\"categorical_crossentropy\",\n",
    "             metrics=['accuracy'])\n",
    "\n",
    "da_dis_model.fit(conv_test_feat, test_pseudo, batch_size=batch_size, nb_epoch=8, \n",
    "                    validation_data=(conv_val_feat, val_labels))"
   ]
  },
  {
   "cell_type": "code",
   "execution_count": 23,
   "metadata": {
    "collapsed": true
   },
   "outputs": [],
   "source": [
    "da_dis_model.save_weights(path + \"results/da_dis_conv_model_12302017_trainthentest_beforedive.h5\")"
   ]
  },
  {
   "cell_type": "code",
   "execution_count": 24,
   "metadata": {},
   "outputs": [
    {
     "name": "stdout",
     "output_type": "stream",
     "text": [
      "Train on 79726 samples, validate on 2344 samples\n",
      "Epoch 1/2\n",
      "79726/79726 [==============================] - 35s - loss: 0.7930 - acc: 0.7976 - val_loss: 0.7048 - val_acc: 0.8008\n",
      "Epoch 2/2\n",
      "79726/79726 [==============================] - 35s - loss: 0.7843 - acc: 0.8008 - val_loss: 0.7078 - val_acc: 0.7986\n"
     ]
    },
    {
     "data": {
      "text/plain": [
       "<keras.callbacks.History at 0x7fdc9260b090>"
      ]
     },
     "execution_count": 24,
     "metadata": {},
     "output_type": "execute_result"
    }
   ],
   "source": [
    "da_dis_model.optimizer.lr = 0.01\n",
    "da_dis_model.fit(conv_test_feat, test_pseudo, batch_size=batch_size, nb_epoch=2, \n",
    "                    validation_data=(conv_val_feat, val_labels))"
   ]
  },
  {
   "cell_type": "code",
   "execution_count": 26,
   "metadata": {},
   "outputs": [
    {
     "name": "stdout",
     "output_type": "stream",
     "text": [
      "Train on 79726 samples, validate on 2344 samples\n",
      "Epoch 1/6\n",
      "79726/79726 [==============================] - 34s - loss: 0.7466 - acc: 0.8175 - val_loss: 0.7134 - val_acc: 0.7978\n",
      "Epoch 2/6\n",
      "79726/79726 [==============================] - 34s - loss: 0.7403 - acc: 0.8198 - val_loss: 0.7174 - val_acc: 0.7969\n",
      "Epoch 3/6\n",
      "79726/79726 [==============================] - 34s - loss: 0.7346 - acc: 0.8251 - val_loss: 0.7081 - val_acc: 0.7995\n",
      "Epoch 4/6\n",
      "79726/79726 [==============================] - 35s - loss: 0.7287 - acc: 0.8278 - val_loss: 0.7120 - val_acc: 0.7999\n",
      "Epoch 5/6\n",
      "79726/79726 [==============================] - 34s - loss: 0.7223 - acc: 0.8316 - val_loss: 0.7147 - val_acc: 0.7999\n",
      "Epoch 6/6\n",
      "79726/79726 [==============================] - 34s - loss: 0.7171 - acc: 0.8325 - val_loss: 0.7115 - val_acc: 0.7999\n"
     ]
    },
    {
     "data": {
      "text/plain": [
       "<keras.callbacks.History at 0x7fdc925f57d0>"
      ]
     },
     "execution_count": 26,
     "metadata": {},
     "output_type": "execute_result"
    }
   ],
   "source": [
    "da_dis_model.optimizer.lr = 0.001\n",
    "da_dis_model.fit(conv_test_feat, test_pseudo, batch_size=batch_size, nb_epoch=6, \n",
    "                    validation_data=(conv_val_feat, val_labels))"
   ]
  },
  {
   "cell_type": "code",
   "execution_count": 27,
   "metadata": {},
   "outputs": [
    {
     "name": "stdout",
     "output_type": "stream",
     "text": [
      "Train on 79726 samples, validate on 2344 samples\n",
      "Epoch 1/6\n",
      "79726/79726 [==============================] - 35s - loss: 0.7143 - acc: 0.8344 - val_loss: 0.7183 - val_acc: 0.7974\n",
      "Epoch 2/6\n",
      "79726/79726 [==============================] - 34s - loss: 0.7109 - acc: 0.8371 - val_loss: 0.7213 - val_acc: 0.7978\n",
      "Epoch 3/6\n",
      "79726/79726 [==============================] - 35s - loss: 0.7045 - acc: 0.8387 - val_loss: 0.7103 - val_acc: 0.8003\n",
      "Epoch 4/6\n",
      "79726/79726 [==============================] - 35s - loss: 0.7017 - acc: 0.8393 - val_loss: 0.7308 - val_acc: 0.7969\n",
      "Epoch 5/6\n",
      "79726/79726 [==============================] - 34s - loss: 0.6985 - acc: 0.8408 - val_loss: 0.7164 - val_acc: 0.7986\n",
      "Epoch 6/6\n",
      "79726/79726 [==============================] - 35s - loss: 0.6950 - acc: 0.8437 - val_loss: 0.7241 - val_acc: 0.7974\n"
     ]
    },
    {
     "data": {
      "text/plain": [
       "<keras.callbacks.History at 0x7fdc926566d0>"
      ]
     },
     "execution_count": 27,
     "metadata": {},
     "output_type": "execute_result"
    }
   ],
   "source": [
    "da_dis_model.optimizer.lr = 0.0001\n",
    "da_dis_model.fit(conv_test_feat, test_pseudo, batch_size=batch_size, nb_epoch=6, \n",
    "                    validation_data=(conv_val_feat, val_labels))"
   ]
  },
  {
   "cell_type": "code",
   "execution_count": 28,
   "metadata": {
    "collapsed": true
   },
   "outputs": [],
   "source": [
    "da_dis_model.save_weights(path + \"results/da_dis_conv_model_12302017_trainthentest_afterdive.h5\")"
   ]
  },
  {
   "cell_type": "markdown",
   "metadata": {},
   "source": [
    "# Incorporate Test Data in Semi-Supervised Fashion"
   ]
  },
  {
   "cell_type": "code",
   "execution_count": 21,
   "metadata": {
    "collapsed": true
   },
   "outputs": [],
   "source": [
    "# If test set features not already loaded:\n",
    "conv_test_feat = load_array(path + \"results/conv_test_feat.dat\")"
   ]
  },
  {
   "cell_type": "code",
   "execution_count": 9,
   "metadata": {},
   "outputs": [],
   "source": [
    "p=0.8\n",
    "da_dis_model = Sequential(get_my_layers(p))\n",
    "da_dis_model.load_weights(path + \"results/da_dis_conv_model_12302017_onetrain.h5\")"
   ]
  },
  {
   "cell_type": "code",
   "execution_count": 22,
   "metadata": {
    "collapsed": true
   },
   "outputs": [],
   "source": [
    "test_pseudo = da_dis_model.predict(conv_test_feat, batch_size=batch_size)"
   ]
  },
  {
   "cell_type": "code",
   "execution_count": 23,
   "metadata": {},
   "outputs": [
    {
     "ename": "MemoryError",
     "evalue": "",
     "output_type": "error",
     "traceback": [
      "\u001b[0;31m---------------------------------------------------------------------------\u001b[0m",
      "\u001b[0;31mMemoryError\u001b[0m                               Traceback (most recent call last)",
      "\u001b[0;32m<ipython-input-23-9420879c5b46>\u001b[0m in \u001b[0;36m<module>\u001b[0;34m()\u001b[0m\n\u001b[1;32m      1\u001b[0m \u001b[0mcomb_pseudo\u001b[0m \u001b[0;34m=\u001b[0m \u001b[0mnp\u001b[0m\u001b[0;34m.\u001b[0m\u001b[0mconcatenate\u001b[0m\u001b[0;34m(\u001b[0m\u001b[0;34m[\u001b[0m\u001b[0mda_trn_labels\u001b[0m\u001b[0;34m,\u001b[0m \u001b[0mtest_pseudo\u001b[0m\u001b[0;34m]\u001b[0m\u001b[0;34m)\u001b[0m\u001b[0;34m\u001b[0m\u001b[0m\n\u001b[0;32m----> 2\u001b[0;31m \u001b[0mcomb_feat\u001b[0m \u001b[0;34m=\u001b[0m \u001b[0mnp\u001b[0m\u001b[0;34m.\u001b[0m\u001b[0mconcatenate\u001b[0m\u001b[0;34m(\u001b[0m\u001b[0;34m[\u001b[0m\u001b[0mda_conv_feat\u001b[0m\u001b[0;34m,\u001b[0m \u001b[0mconv_test_feat\u001b[0m\u001b[0;34m]\u001b[0m\u001b[0;34m)\u001b[0m\u001b[0;34m\u001b[0m\u001b[0m\n\u001b[0m",
      "\u001b[0;31mMemoryError\u001b[0m: "
     ]
    }
   ],
   "source": [
    "comb_pseudo = np.concatenate([da_trn_labels, test_pseudo])\n",
    "comb_feat = np.concatenate([da_conv_feat, conv_test_feat])"
   ]
  },
  {
   "cell_type": "markdown",
   "metadata": {},
   "source": [
    "Fine tune the model with the test data"
   ]
  },
  {
   "cell_type": "code",
   "execution_count": 68,
   "metadata": {
    "collapsed": true
   },
   "outputs": [],
   "source": [
    "da_dis_model.load_weights(path + \"results/da_dis_conv_model.h5\")"
   ]
  },
  {
   "cell_type": "code",
   "execution_count": 69,
   "metadata": {},
   "outputs": [
    {
     "name": "stdout",
     "output_type": "stream",
     "text": [
      "Train on 320 samples, validate on 20 samples\n",
      "Epoch 1/5\n",
      "320/320 [==============================] - 0s - loss: 2.3960 - acc: 0.3500 - val_loss: 2.6138 - val_acc: 0.2000\n",
      "Epoch 2/5\n",
      "320/320 [==============================] - 0s - loss: 2.1930 - acc: 0.3594 - val_loss: 2.5626 - val_acc: 0.2000\n",
      "Epoch 3/5\n",
      "320/320 [==============================] - 0s - loss: 2.3292 - acc: 0.3750 - val_loss: 2.4993 - val_acc: 0.2000\n",
      "Epoch 4/5\n",
      "320/320 [==============================] - 0s - loss: 2.1089 - acc: 0.4594 - val_loss: 2.4248 - val_acc: 0.2000\n",
      "Epoch 5/5\n",
      "320/320 [==============================] - 0s - loss: 2.0822 - acc: 0.4438 - val_loss: 2.3335 - val_acc: 0.2000\n"
     ]
    },
    {
     "data": {
      "text/plain": [
       "<keras.callbacks.History at 0x7f3df46adcd0>"
      ]
     },
     "execution_count": 69,
     "metadata": {},
     "output_type": "execute_result"
    }
   ],
   "source": [
    "da_dis_model.fit(comb_feat, comb_pseudo, batch_size=batch_size, nb_epoch=5, \n",
    "                    validation_data=(conv_val_feat, val_labels))"
   ]
  },
  {
   "cell_type": "code",
   "execution_count": 70,
   "metadata": {},
   "outputs": [
    {
     "name": "stdout",
     "output_type": "stream",
     "text": [
      "Train on 320 samples, validate on 20 samples\n",
      "Epoch 1/8\n",
      "320/320 [==============================] - 0s - loss: 2.0062 - acc: 0.4375 - val_loss: 2.2898 - val_acc: 0.2000\n",
      "Epoch 2/8\n",
      "320/320 [==============================] - 0s - loss: 1.8676 - acc: 0.4594 - val_loss: 2.2431 - val_acc: 0.2000\n",
      "Epoch 3/8\n",
      "320/320 [==============================] - 0s - loss: 1.7249 - acc: 0.5312 - val_loss: 2.2445 - val_acc: 0.2000\n",
      "Epoch 4/8\n",
      "320/320 [==============================] - 0s - loss: 1.8181 - acc: 0.4719 - val_loss: 2.2745 - val_acc: 0.2000\n",
      "Epoch 5/8\n",
      "320/320 [==============================] - 0s - loss: 1.5383 - acc: 0.5406 - val_loss: 2.2657 - val_acc: 0.2000\n",
      "Epoch 6/8\n",
      "320/320 [==============================] - 0s - loss: 1.5347 - acc: 0.5312 - val_loss: 2.2971 - val_acc: 0.2000\n",
      "Epoch 7/8\n",
      "320/320 [==============================] - 0s - loss: 1.5802 - acc: 0.5156 - val_loss: 2.3150 - val_acc: 0.2000\n",
      "Epoch 8/8\n",
      "320/320 [==============================] - 0s - loss: 1.4438 - acc: 0.5531 - val_loss: 2.2461 - val_acc: 0.2000\n"
     ]
    },
    {
     "data": {
      "text/plain": [
       "<keras.callbacks.History at 0x7f3dea01eb90>"
      ]
     },
     "execution_count": 70,
     "metadata": {},
     "output_type": "execute_result"
    }
   ],
   "source": [
    "da_dis_model.optimizer.lr=0.00001\n",
    "da_dis_model.fit(comb_feat, comb_pseudo, batch_size=batch_size, nb_epoch=8, \n",
    "                    validation_data=(conv_val_feat, val_labels))"
   ]
  },
  {
   "cell_type": "code",
   "execution_count": 71,
   "metadata": {
    "collapsed": true
   },
   "outputs": [],
   "source": [
    "da_dis_model.save_weights(path + \"results/da_dis_conv_model_pred_test.h5\")"
   ]
  },
  {
   "cell_type": "markdown",
   "metadata": {},
   "source": [
    "# Submit Results"
   ]
  },
  {
   "cell_type": "code",
   "execution_count": 72,
   "metadata": {
    "collapsed": true
   },
   "outputs": [],
   "source": [
    "def do_clip(arr, mx): return np.clip(arr, (1-mx)/9, mx)"
   ]
  },
  {
   "cell_type": "code",
   "execution_count": 73,
   "metadata": {
    "collapsed": true
   },
   "outputs": [],
   "source": [
    "#keras.metrics.categorical_crossentropy(val_labels, do_clip(val_preds, 0.93)).eval()"
   ]
  },
  {
   "cell_type": "code",
   "execution_count": 10,
   "metadata": {
    "collapsed": true
   },
   "outputs": [],
   "source": [
    "conv_test_feat = load_array(path + \"results/conv_test_feat.dat\")"
   ]
  },
  {
   "cell_type": "code",
   "execution_count": 33,
   "metadata": {
    "collapsed": true
   },
   "outputs": [],
   "source": [
    "da_dis_model.load_weights(path + \"results/da_dis_conv_model_12302017_trainthentest_beforedive.h5\")"
   ]
  },
  {
   "cell_type": "code",
   "execution_count": 34,
   "metadata": {
    "collapsed": true
   },
   "outputs": [],
   "source": [
    "preds = da_dis_model.predict(conv_test_feat, batch_size=batch_size*2)\n",
    "subm = do_clip(preds, 0.93)"
   ]
  },
  {
   "cell_type": "code",
   "execution_count": 13,
   "metadata": {},
   "outputs": [
    {
     "name": "stdout",
     "output_type": "stream",
     "text": [
      "Found 20080 images belonging to 10 classes.\n"
     ]
    }
   ],
   "source": [
    "train_batches = get_batches(train_path, batch_size=batch_size, shuffle=False)"
   ]
  },
  {
   "cell_type": "code",
   "execution_count": 35,
   "metadata": {},
   "outputs": [
    {
     "data": {
      "text/html": [
       "<div>\n",
       "<style>\n",
       "    .dataframe thead tr:only-child th {\n",
       "        text-align: right;\n",
       "    }\n",
       "\n",
       "    .dataframe thead th {\n",
       "        text-align: left;\n",
       "    }\n",
       "\n",
       "    .dataframe tbody tr th {\n",
       "        vertical-align: top;\n",
       "    }\n",
       "</style>\n",
       "<table border=\"1\" class=\"dataframe\">\n",
       "  <thead>\n",
       "    <tr style=\"text-align: right;\">\n",
       "      <th></th>\n",
       "      <th>img</th>\n",
       "      <th>c0</th>\n",
       "      <th>c1</th>\n",
       "      <th>c2</th>\n",
       "      <th>c3</th>\n",
       "      <th>c4</th>\n",
       "      <th>c5</th>\n",
       "      <th>c6</th>\n",
       "      <th>c7</th>\n",
       "      <th>c8</th>\n",
       "      <th>c9</th>\n",
       "    </tr>\n",
       "  </thead>\n",
       "  <tbody>\n",
       "    <tr>\n",
       "      <th>0</th>\n",
       "      <td>img_53274.jpg</td>\n",
       "      <td>0.044872</td>\n",
       "      <td>0.044872</td>\n",
       "      <td>0.044872</td>\n",
       "      <td>0.596154</td>\n",
       "      <td>0.044872</td>\n",
       "      <td>0.044872</td>\n",
       "      <td>0.044872</td>\n",
       "      <td>0.044872</td>\n",
       "      <td>0.044872</td>\n",
       "      <td>0.044872</td>\n",
       "    </tr>\n",
       "    <tr>\n",
       "      <th>1</th>\n",
       "      <td>img_75129.jpg</td>\n",
       "      <td>0.541558</td>\n",
       "      <td>0.047086</td>\n",
       "      <td>0.047086</td>\n",
       "      <td>0.047086</td>\n",
       "      <td>0.047086</td>\n",
       "      <td>0.047086</td>\n",
       "      <td>0.047086</td>\n",
       "      <td>0.047086</td>\n",
       "      <td>0.047086</td>\n",
       "      <td>0.081755</td>\n",
       "    </tr>\n",
       "    <tr>\n",
       "      <th>2</th>\n",
       "      <td>img_79925.jpg</td>\n",
       "      <td>0.045641</td>\n",
       "      <td>0.045641</td>\n",
       "      <td>0.045641</td>\n",
       "      <td>0.045641</td>\n",
       "      <td>0.045641</td>\n",
       "      <td>0.045641</td>\n",
       "      <td>0.045641</td>\n",
       "      <td>0.589227</td>\n",
       "      <td>0.045641</td>\n",
       "      <td>0.045641</td>\n",
       "    </tr>\n",
       "    <tr>\n",
       "      <th>3</th>\n",
       "      <td>img_11055.jpg</td>\n",
       "      <td>0.044872</td>\n",
       "      <td>0.044872</td>\n",
       "      <td>0.044872</td>\n",
       "      <td>0.044872</td>\n",
       "      <td>0.044872</td>\n",
       "      <td>0.044872</td>\n",
       "      <td>0.044872</td>\n",
       "      <td>0.596154</td>\n",
       "      <td>0.044872</td>\n",
       "      <td>0.044872</td>\n",
       "    </tr>\n",
       "    <tr>\n",
       "      <th>4</th>\n",
       "      <td>img_20721.jpg</td>\n",
       "      <td>0.044973</td>\n",
       "      <td>0.044973</td>\n",
       "      <td>0.044973</td>\n",
       "      <td>0.575360</td>\n",
       "      <td>0.064853</td>\n",
       "      <td>0.044973</td>\n",
       "      <td>0.044973</td>\n",
       "      <td>0.044973</td>\n",
       "      <td>0.044973</td>\n",
       "      <td>0.044973</td>\n",
       "    </tr>\n",
       "  </tbody>\n",
       "</table>\n",
       "</div>"
      ],
      "text/plain": [
       "             img        c0        c1        c2        c3        c4        c5  \\\n",
       "0  img_53274.jpg  0.044872  0.044872  0.044872  0.596154  0.044872  0.044872   \n",
       "1  img_75129.jpg  0.541558  0.047086  0.047086  0.047086  0.047086  0.047086   \n",
       "2  img_79925.jpg  0.045641  0.045641  0.045641  0.045641  0.045641  0.045641   \n",
       "3  img_11055.jpg  0.044872  0.044872  0.044872  0.044872  0.044872  0.044872   \n",
       "4  img_20721.jpg  0.044973  0.044973  0.044973  0.575360  0.064853  0.044973   \n",
       "\n",
       "         c6        c7        c8        c9  \n",
       "0  0.044872  0.044872  0.044872  0.044872  \n",
       "1  0.047086  0.047086  0.047086  0.081755  \n",
       "2  0.045641  0.589227  0.045641  0.045641  \n",
       "3  0.044872  0.596154  0.044872  0.044872  \n",
       "4  0.044973  0.044973  0.044973  0.044973  "
      ]
     },
     "execution_count": 35,
     "metadata": {},
     "output_type": "execute_result"
    }
   ],
   "source": [
    "subm_name = path + \"results/subm_train_on_test_partially_trained.gz\"\n",
    "classes = sorted(train_batches.class_indices, key=train_batches.class_indices.get)\n",
    "submission = pd.DataFrame(subm, columns=classes)\n",
    "submission.insert(0, 'img', [a[8:] for a in test_filenames])\n",
    "submission.head()"
   ]
  },
  {
   "cell_type": "code",
   "execution_count": 36,
   "metadata": {
    "collapsed": true
   },
   "outputs": [],
   "source": [
    "submission.to_csv(subm_name, index=False, compression=\"gzip\")"
   ]
  },
  {
   "cell_type": "code",
   "execution_count": 37,
   "metadata": {},
   "outputs": [
    {
     "data": {
      "text/html": [
       "<a href='/home/ubuntu/nbs-git/fast-ai/state_farm_comp/lesson3/data/results/subm_train_on_test_partially_trained.gz' target='_blank'>/home/ubuntu/nbs-git/fast-ai/state_farm_comp/lesson3/data/results/subm_train_on_test_partially_trained.gz</a><br>"
      ],
      "text/plain": [
       "/home/ubuntu/nbs-git/fast-ai/state_farm_comp/lesson3/data/results/subm_train_on_test_partially_trained.gz"
      ]
     },
     "execution_count": 37,
     "metadata": {},
     "output_type": "execute_result"
    }
   ],
   "source": [
    "FileLink(subm_name)"
   ]
  },
  {
   "cell_type": "code",
   "execution_count": null,
   "metadata": {
    "collapsed": true
   },
   "outputs": [],
   "source": []
  }
 ],
 "metadata": {
  "kernelspec": {
   "display_name": "Python [conda root]",
   "language": "python",
   "name": "conda-root-py"
  },
  "language_info": {
   "codemirror_mode": {
    "name": "ipython",
    "version": 2
   },
   "file_extension": ".py",
   "mimetype": "text/x-python",
   "name": "python",
   "nbconvert_exporter": "python",
   "pygments_lexer": "ipython2",
   "version": "2.7.13"
  }
 },
 "nbformat": 4,
 "nbformat_minor": 2
}
